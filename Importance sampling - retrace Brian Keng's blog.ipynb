{
 "cells": [
  {
   "cell_type": "markdown",
   "id": "cross-command",
   "metadata": {},
   "source": [
    "Replayed from Brian Keng's blog\n",
    "\n",
    "[Importance sampling and estimating marginal likelhood in variational autoencoders](https://bjlkeng.github.io/posts/importance-sampling-and-estimating-marginal-likelihood-in-variational-autoencoders/)"
   ]
  },
  {
   "cell_type": "code",
   "execution_count": 44,
   "id": "toxic-offer",
   "metadata": {},
   "outputs": [],
   "source": [
    "# Real life data\n",
    "\n",
    "import logging\n",
    "import threading\n",
    "import itertools\n",
    "import pandas as pd  \n",
    "import numpy as np  \n",
    "import json\n",
    "import matplotlib.pyplot as plt\n",
    "from matplotlib import cm\n",
    "from mpl_toolkits.mplot3d import axes3d\n",
    "import seaborn as seabornInstance\n",
    "from sqlalchemy import Column, Integer, String, Float, DateTime, Boolean, func\n",
    "from iotfunctions import base\n",
    "from iotfunctions import bif\n",
    "from iotfunctions import entity\n",
    "from iotfunctions import metadata\n",
    "from iotfunctions.metadata import EntityType\n",
    "from iotfunctions.db import Database\n",
    "from iotfunctions.dbtables import FileModelStore\n",
    "from iotfunctions.enginelog import EngineLogging\n",
    "from iotfunctions import estimator\n",
    "from iotfunctions.ui import (UISingle, UIMultiItem, UIFunctionOutSingle,\n",
    "                 UISingleItem, UIFunctionOutMulti, UIMulti, UIExpression,\n",
    "                 UIText, UIStatusFlag, UIParameters)\n",
    "from mmfunctions.anomaly import (SaliencybasedGeneralizedAnomalyScore, SpectralAnomalyScore,\n",
    "                                 GeneralizedAnomalyScore,\n",
    "                 FFTbasedGeneralizedAnomalyScore, KMeansAnomalyScore, SaliencybasedGeneralizedAnomalyScoreV2, \n",
    "                 FFTbasedGeneralizedAnomalyScoreV2, KMeansAnomalyScoreV2, MatrixProfileAnomalyScore)                 \n",
    "import datetime as dt\n",
    "from sklearn.model_selection import train_test_split \n",
    "from sklearn.linear_model import LinearRegression\n",
    "from sklearn import metrics\n",
    "import networkx as nx\n",
    "from pandas.plotting import register_matplotlib_converters\n",
    "import seaborn as sns\n",
    "register_matplotlib_converters()\n",
    "\n",
    "EngineLogging.configure_console_logging(logging.INFO)"
   ]
  },
  {
   "cell_type": "code",
   "execution_count": 8,
   "id": "oriented-boulder",
   "metadata": {},
   "outputs": [
    {
     "name": "stdout",
     "output_type": "stream",
     "text": [
      "Task 1: duration: 4, depends on []\n",
      "Task 2: duration: 4, depends on [1]\n",
      "Task 3: duration: 2, depends on [1]\n",
      "Task 4: duration: 5, depends on [2]\n",
      "Task 5: duration: 2, depends on [2]\n",
      "Task 6: duration: 3, depends on [3]\n",
      "Task 7: duration: 2, depends on [3]\n",
      "Task 8: duration: 3, depends on [3]\n",
      "Task 9: duration: 2, depends on [5, 6, 7]\n",
      "Task 10: duration: 2, depends on [4, 8, 9]\n"
     ]
    }
   ],
   "source": [
    "# DAG\n",
    "dag = [\n",
    "     {'depends': [], 'duration': 4},\n",
    "     {'depends': [0], 'duration': 4},\n",
    "     {'depends': [0], 'duration': 2},\n",
    "     {'depends': [1], 'duration': 5},\n",
    "     {'depends': [1], 'duration': 2},\n",
    "     {'depends': [2], 'duration': 3},\n",
    "     {'depends': [2], 'duration': 2},\n",
    "     {'depends': [2], 'duration': 3},\n",
    "     {'depends': [4, 5, 6], 'duration': 2},\n",
    "     {'depends': [3, 7, 8], 'duration': 2},\n",
    "]\n",
    "\n",
    "for i, task in enumerate(dag):\n",
    "    print(\"Task {}: duration: {}, depends on {}\".format(i+1, task['duration'], [x+1 for x in task['depends']]))"
   ]
  },
  {
   "cell_type": "code",
   "execution_count": 41,
   "id": "distinguished-queen",
   "metadata": {},
   "outputs": [
    {
     "data": {
      "image/png": "[encoded data removed]",
      "text/plain": [
       "<Figure size 432x288 with 1 Axes>"
      ]
     },
     "metadata": {},
     "output_type": "display_data"
    }
   ],
   "source": [
    "DG = nx.DiGraph()\n",
    "\n",
    "for i,d in zip(range(len(dag)),dag):\n",
    "    DG.add_node(i, duration = d['duration'])\n",
    "    for j in d['depends']:\n",
    "        DG.add_edge(j,i)\n",
    "#pos = nx.shell_layout(DG)\n",
    "pos = None\n",
    "nx.draw(DG, pos=pos)"
   ]
  },
  {
   "cell_type": "code",
   "execution_count": 46,
   "id": "surgical-trash",
   "metadata": {},
   "outputs": [
    {
     "data": {
      "text/html": [
       "<div>\n",
       "<style scoped>\n",
       "    .dataframe tbody tr th:only-of-type {\n",
       "        vertical-align: middle;\n",
       "    }\n",
       "\n",
       "    .dataframe tbody tr th {\n",
       "        vertical-align: top;\n",
       "    }\n",
       "\n",
       "    .dataframe thead th {\n",
       "        text-align: right;\n",
       "    }\n",
       "</style>\n",
       "<table border=\"1\" class=\"dataframe\">\n",
       "  <thead>\n",
       "    <tr style=\"text-align: right;\">\n",
       "      <th></th>\n",
       "      <th>task_1</th>\n",
       "      <th>task_2</th>\n",
       "      <th>task_3</th>\n",
       "      <th>task_4</th>\n",
       "      <th>task_5</th>\n",
       "      <th>task_6</th>\n",
       "      <th>task_7</th>\n",
       "      <th>task_8</th>\n",
       "      <th>task_9</th>\n",
       "      <th>task_10</th>\n",
       "    </tr>\n",
       "  </thead>\n",
       "  <tbody>\n",
       "    <tr>\n",
       "      <th>0</th>\n",
       "      <td>5.482643</td>\n",
       "      <td>11.629945</td>\n",
       "      <td>12.731405</td>\n",
       "      <td>21.674304</td>\n",
       "      <td>12.197417</td>\n",
       "      <td>14.946378</td>\n",
       "      <td>13.042843</td>\n",
       "      <td>16.747571</td>\n",
       "      <td>15.472576</td>\n",
       "      <td>23.125470</td>\n",
       "    </tr>\n",
       "    <tr>\n",
       "      <th>1</th>\n",
       "      <td>2.319358</td>\n",
       "      <td>5.523167</td>\n",
       "      <td>3.999478</td>\n",
       "      <td>7.335707</td>\n",
       "      <td>6.594443</td>\n",
       "      <td>5.486903</td>\n",
       "      <td>5.401357</td>\n",
       "      <td>4.534476</td>\n",
       "      <td>7.645027</td>\n",
       "      <td>14.457258</td>\n",
       "    </tr>\n",
       "    <tr>\n",
       "      <th>2</th>\n",
       "      <td>5.276283</td>\n",
       "      <td>11.171767</td>\n",
       "      <td>5.959313</td>\n",
       "      <td>26.963838</td>\n",
       "      <td>11.696910</td>\n",
       "      <td>6.370151</td>\n",
       "      <td>6.286959</td>\n",
       "      <td>8.225410</td>\n",
       "      <td>13.365134</td>\n",
       "      <td>28.773864</td>\n",
       "    </tr>\n",
       "  </tbody>\n",
       "</table>\n",
       "</div>"
      ],
      "text/plain": [
       "     task_1     task_2     task_3     task_4     task_5     task_6     task_7  \\\n",
       "0  5.482643  11.629945  12.731405  21.674304  12.197417  14.946378  13.042843   \n",
       "1  2.319358   5.523167   3.999478   7.335707   6.594443   5.486903   5.401357   \n",
       "2  5.276283  11.171767   5.959313  26.963838  11.696910   6.370151   6.286959   \n",
       "\n",
       "      task_8     task_9    task_10  \n",
       "0  16.747571  15.472576  23.125470  \n",
       "1   4.534476   7.645027  14.457258  \n",
       "2   8.225410  13.365134  28.773864  "
      ]
     },
     "execution_count": 46,
     "metadata": {},
     "output_type": "execute_result"
    }
   ],
   "source": [
    "def simulate(n, dag):\n",
    "    samples = []\n",
    "    for task in dag:\n",
    "        samples.append(np.random.exponential(task['duration'], n))\n",
    "   \n",
    "    times = np.zeros((len(dag), n))\n",
    "    for i, task in enumerate(dag):\n",
    "        if task['depends']:\n",
    "            times[i, :] = np.max(times[task['depends'], :] + samples[i], axis=0)\n",
    "        else:\n",
    "            times[i, :] = samples[i]\n",
    "            \n",
    "    df = pd.DataFrame(times).transpose()\n",
    "    df.columns = ['task_' + str(x+1) for x in df.columns]\n",
    "    return df\n",
    "        \n",
    "simulate(3, dag)"
   ]
  },
  {
   "cell_type": "code",
   "execution_count": 49,
   "id": "attempted-outdoors",
   "metadata": {},
   "outputs": [
    {
     "data": {
      "text/html": [
       "<div>\n",
       "<style scoped>\n",
       "    .dataframe tbody tr th:only-of-type {\n",
       "        vertical-align: middle;\n",
       "    }\n",
       "\n",
       "    .dataframe tbody tr th {\n",
       "        vertical-align: top;\n",
       "    }\n",
       "\n",
       "    .dataframe thead th {\n",
       "        text-align: right;\n",
       "    }\n",
       "</style>\n",
       "<table border=\"1\" class=\"dataframe\">\n",
       "  <thead>\n",
       "    <tr style=\"text-align: right;\">\n",
       "      <th></th>\n",
       "      <th>N</th>\n",
       "      <th>count</th>\n",
       "      <th>ratio</th>\n",
       "    </tr>\n",
       "  </thead>\n",
       "  <tbody>\n",
       "    <tr>\n",
       "      <th>0</th>\n",
       "      <td>1000</td>\n",
       "      <td>0</td>\n",
       "      <td>0.000000</td>\n",
       "    </tr>\n",
       "    <tr>\n",
       "      <th>1</th>\n",
       "      <td>10000</td>\n",
       "      <td>0</td>\n",
       "      <td>0.000000</td>\n",
       "    </tr>\n",
       "    <tr>\n",
       "      <th>2</th>\n",
       "      <td>50000</td>\n",
       "      <td>1</td>\n",
       "      <td>0.000020</td>\n",
       "    </tr>\n",
       "    <tr>\n",
       "      <th>3</th>\n",
       "      <td>100000</td>\n",
       "      <td>4</td>\n",
       "      <td>0.000040</td>\n",
       "    </tr>\n",
       "    <tr>\n",
       "      <th>4</th>\n",
       "      <td>500000</td>\n",
       "      <td>17</td>\n",
       "      <td>0.000034</td>\n",
       "    </tr>\n",
       "    <tr>\n",
       "      <th>5</th>\n",
       "      <td>1000000</td>\n",
       "      <td>25</td>\n",
       "      <td>0.000025</td>\n",
       "    </tr>\n",
       "    <tr>\n",
       "      <th>6</th>\n",
       "      <td>5000000</td>\n",
       "      <td>157</td>\n",
       "      <td>0.000031</td>\n",
       "    </tr>\n",
       "  </tbody>\n",
       "</table>\n",
       "</div>"
      ],
      "text/plain": [
       "         N  count     ratio\n",
       "0     1000      0  0.000000\n",
       "1    10000      0  0.000000\n",
       "2    50000      1  0.000020\n",
       "3   100000      4  0.000040\n",
       "4   500000     17  0.000034\n",
       "5  1000000     25  0.000025\n",
       "6  5000000    157  0.000031"
      ]
     },
     "metadata": {},
     "output_type": "display_data"
    },
    {
     "data": {
      "text/plain": [
       "<AxesSubplot:xlabel='N', ylabel='ratio'>"
      ]
     },
     "execution_count": 49,
     "metadata": {},
     "output_type": "execute_result"
    },
    {
     "data": {
      "image/png": "[encoded data removed]",
      "text/plain": [
       "<Figure size 432x288 with 1 Axes>"
      ]
     },
     "metadata": {
      "needs_background": "light"
     },
     "output_type": "display_data"
    }
   ],
   "source": [
    "# Number of times we go over 70 day time limit at different time limits\n",
    "trials = []\n",
    "for N in [1000, 10000, 50000, 100000, 500000, 1000000, 5000000]:\n",
    "    df = simulate(N, dag)\n",
    "    count = len(df[df.task_10 > 70])\n",
    "    trials.append({'N': N, 'count': count, 'ratio': count / len(df)})\n",
    "                  \n",
    "trials = pd.DataFrame(trials)\n",
    "display(trials)\n",
    "sns.lineplot(x='N', y='ratio', data=trials, markers=True, marker='o')"
   ]
  },
  {
   "cell_type": "markdown",
   "id": "seeing-architect",
   "metadata": {},
   "source": [
    "#### Put more weights on longer runs\n",
    "\n",
    "and exploit importance weight sampling\n",
    "\n",
    "$$\n",
    "\\int_{\\mathcal{D}} f(x)dp = \\int_{\\mathcal{D}} \\frac{f(x)p(x)}{q(x)} dq \\approx\n",
    "    \\frac{1}{n} \\sum_{i}^{n} \\frac{ f(x_i)p(x_i) }{q(x_i)},  \\: where \\: x_i \\sim  q\n",
    "$$\n",
    "\n",
    "\n",
    "We can use this to 'stretch' the duration of tasks (especially critical tasks) by a task specific lambda value. Since the duration of a task is independent, \"correcting\" the effects of importance weighting amounts to multiplying the integrals over p/q per task.\n",
    "\n",
    "Hence with the original task duration denoted by theta and the \"stretch\" factor denoted by lambda\n",
    "\n",
    "$$\n",
    "        \\frac{1}{n} \\sum_{i}^{n} D_{i}(T > 70) \\prod_{j}^{len(dag)} \\frac{\\frac{1}{\\theta_j}\n",
    "           exp(\\frac{-T_{ij}}{\\theta_j})}{\\frac{1}{\\lambda_j \\theta_j} exp(\\frac{-T_{ij}}{\\lambda_j \\theta_j})} \n",
    "$$\n",
    "\n",
    "As before\n",
    "\n",
    "$$\n",
    "        T_{ij} \\approx \\frac{1}{n} \\sum_{k}^{n} t_k,  \\: where \\: t_k \\sim Exp( \\theta_j \\lambda_j )\n",
    "$$\n",
    "\n",
    "Task duration is independent."
   ]
  },
  {
   "cell_type": "code",
   "execution_count": 144,
   "id": "naked-price",
   "metadata": {},
   "outputs": [
    {
     "name": "stdout",
     "output_type": "stream",
     "text": [
      "(10, 10000)\n"
     ]
    },
    {
     "data": {
      "text/plain": [
       "0.0"
      ]
     },
     "execution_count": 144,
     "metadata": {},
     "output_type": "execute_result"
    }
   ],
   "source": [
    "def simulate_importance(n, dag, importance_parameters=None):\n",
    "    ''' Compute E(T_10 >= 70) = 1/n \\sum I(T_10 > 70) \\pi_k likelihood_ratio_k '''\n",
    "    if importance_parameters is None:\n",
    "        importance_parameters = [1.] * (len(dag))\n",
    "    assert len(dag) == len(importance_parameters)\n",
    "   \n",
    "    # Sample from the importance distribution to get all our task times\n",
    "    q_samples = []\n",
    "    durations = []\n",
    "    for i, task in enumerate(dag):\n",
    "        dura = task['duration']\n",
    "        durations.append(dura)\n",
    "        q_sample = np.random.exponential(importance_parameters[i]*dura, n)\n",
    "        q_samples.append(q_sample)\n",
    "            \n",
    "    # Compute the likelihood ratios in log space [exp(-T/\\theta) /\\theta] / [exp(-T/\\lambda*theta) / \\lambda*theta]\n",
    "    stacked_q_samples = np.stack(q_samples, axis=1)\n",
    "    print(stacked_q_samples.T.shape)\n",
    "    \n",
    "    log_durations = np.log(durations)\n",
    "    log_importance_parameters = np.log(importance_parameters)\n",
    "    \n",
    "    # sum over the 10 tasks (array of N)\n",
    "    log_likelihoods = np.sum(-stacked_q_samples / np.array(durations) +\n",
    "                         stacked_q_samples / durations / importance_parameters + log_importance_parameters, axis=1)\n",
    "    \n",
    "\n",
    "    # Compute final outcome variable\n",
    "    times = np.zeros((len(dag), n))\n",
    "    for i, task in enumerate(dag):\n",
    "        if task['depends']:\n",
    "            times[i, :] = np.max(times[task['depends'], :] + q_samples[i], axis=0)\n",
    "        else:\n",
    "            times[i, :] = q_samples[i]\n",
    "                \n",
    "    outcome = np.where(times[-1, :] >= 70, 1., 0.) * np.exp(log_likelihoods)\n",
    "    #print(len(dag), np.exp(log_likelihoods))\n",
    "    return np.mean(outcome)\n",
    "\n",
    "#params = [4, 4, 2, 5, 2, 3, 2, 3, 2, 2]\n",
    "#params = [16, 16, 2, 20, 2, 3, 2, 3, 2, 16]\n",
    "params = [1,1,1,1,1,1,1,1,1,1]  # like original, log_likelihood is [0,,,0], of course\n",
    "simulate_importance(10000, dag, params)"
   ]
  },
  {
   "cell_type": "code",
   "execution_count": 153,
   "id": "interim-access",
   "metadata": {},
   "outputs": [
    {
     "name": "stdout",
     "output_type": "stream",
     "text": [
      "(10, 1000)\n",
      "(10, 5000)\n",
      "(10, 10000)\n",
      "(10, 50000)\n",
      "(10, 100000)\n",
      "(10, 1000)\n",
      "(10, 5000)\n",
      "(10, 10000)\n",
      "(10, 50000)\n",
      "(10, 100000)\n"
     ]
    },
    {
     "data": {
      "text/html": [
       "<div>\n",
       "<style scoped>\n",
       "    .dataframe tbody tr th:only-of-type {\n",
       "        vertical-align: middle;\n",
       "    }\n",
       "\n",
       "    .dataframe tbody tr th {\n",
       "        vertical-align: top;\n",
       "    }\n",
       "\n",
       "    .dataframe thead th {\n",
       "        text-align: right;\n",
       "    }\n",
       "</style>\n",
       "<table border=\"1\" class=\"dataframe\">\n",
       "  <thead>\n",
       "    <tr style=\"text-align: right;\">\n",
       "      <th></th>\n",
       "      <th>experiment</th>\n",
       "      <th>sample_size</th>\n",
       "      <th>mean</th>\n",
       "    </tr>\n",
       "  </thead>\n",
       "  <tbody>\n",
       "    <tr>\n",
       "      <th>0</th>\n",
       "      <td>original</td>\n",
       "      <td>1000</td>\n",
       "      <td>0.000000</td>\n",
       "    </tr>\n",
       "    <tr>\n",
       "      <th>1</th>\n",
       "      <td>original</td>\n",
       "      <td>5000</td>\n",
       "      <td>0.000400</td>\n",
       "    </tr>\n",
       "    <tr>\n",
       "      <th>2</th>\n",
       "      <td>original</td>\n",
       "      <td>10000</td>\n",
       "      <td>0.000100</td>\n",
       "    </tr>\n",
       "    <tr>\n",
       "      <th>3</th>\n",
       "      <td>original</td>\n",
       "      <td>50000</td>\n",
       "      <td>0.000000</td>\n",
       "    </tr>\n",
       "    <tr>\n",
       "      <th>4</th>\n",
       "      <td>original</td>\n",
       "      <td>100000</td>\n",
       "      <td>0.000040</td>\n",
       "    </tr>\n",
       "    <tr>\n",
       "      <th>5</th>\n",
       "      <td>crit</td>\n",
       "      <td>1000</td>\n",
       "      <td>0.000028</td>\n",
       "    </tr>\n",
       "    <tr>\n",
       "      <th>6</th>\n",
       "      <td>crit</td>\n",
       "      <td>5000</td>\n",
       "      <td>0.000034</td>\n",
       "    </tr>\n",
       "    <tr>\n",
       "      <th>7</th>\n",
       "      <td>crit</td>\n",
       "      <td>10000</td>\n",
       "      <td>0.000034</td>\n",
       "    </tr>\n",
       "    <tr>\n",
       "      <th>8</th>\n",
       "      <td>crit</td>\n",
       "      <td>50000</td>\n",
       "      <td>0.000032</td>\n",
       "    </tr>\n",
       "    <tr>\n",
       "      <th>9</th>\n",
       "      <td>crit</td>\n",
       "      <td>100000</td>\n",
       "      <td>0.000032</td>\n",
       "    </tr>\n",
       "  </tbody>\n",
       "</table>\n",
       "</div>"
      ],
      "text/plain": [
       "  experiment  sample_size      mean\n",
       "0   original         1000  0.000000\n",
       "1   original         5000  0.000400\n",
       "2   original        10000  0.000100\n",
       "3   original        50000  0.000000\n",
       "4   original       100000  0.000040\n",
       "5       crit         1000  0.000028\n",
       "6       crit         5000  0.000034\n",
       "7       crit        10000  0.000034\n",
       "8       crit        50000  0.000032\n",
       "9       crit       100000  0.000032"
      ]
     },
     "execution_count": 153,
     "metadata": {},
     "output_type": "execute_result"
    }
   ],
   "source": [
    "'''\n",
    "distributions = [\n",
    "    ('original', [4, 4, 2, 5, 2, 3, 2, 3, 2, 2]), # original\n",
    "    ('4x_all', [4 * x for x in [4, 4, 2, 5, 2, 3, 2, 3, 2, 2]]), # quadrupling\n",
    "    ('2x_critical', [8, 8, 2, 10, 2, 3, 2, 3, 2, 4]), # 2x Multiplicative change in bottleneck tasks 1, 2, 4, 10\n",
    "    ('3x_critical', [12, 12, 2, 15, 2, 3, 2, 3, 2, 12]), # 3x Multiplicative change in bottleneck tasks 1, 2, 4, 10\n",
    "    ('4x_critical', [16, 16, 2, 20, 2, 3, 2, 3, 2, 16]), # 4x Multiplicative change in bottleneck tasks 1, 2, 4, 10\n",
    "]\n",
    "'''\n",
    "distributions = [\n",
    "    ('original', [1,1,1,1,1,1,1,1,1,1]),\n",
    "    ('crit', [2,2,1,4,1,1,1,1,1,3]),\n",
    "]\n",
    "\n",
    "data = []\n",
    "for name, importance_params in distributions:\n",
    "    for N in [1000, 5000, 10000, 50000, 100000]:\n",
    "        mean = simulate_importance(N, dag, importance_params)\n",
    "        data.append((name, N, mean))\n",
    "df_importance = pd.DataFrame(data, columns=['experiment', 'sample_size', 'mean'])        \n",
    "df_importance"
   ]
  },
  {
   "cell_type": "code",
   "execution_count": 154,
   "id": "recognized-anxiety",
   "metadata": {},
   "outputs": [
    {
     "data": {
      "text/plain": [
       "<matplotlib.legend.Legend at 0x7fa127efaaf0>"
      ]
     },
     "execution_count": 154,
     "metadata": {},
     "output_type": "execute_result"
    },
    {
     "data": {
      "image/png": "[encoded data removed]",
      "text/plain": [
       "<Figure size 432x288 with 1 Axes>"
      ]
     },
     "metadata": {
      "needs_background": "light"
     },
     "output_type": "display_data"
    }
   ],
   "source": [
    "sns.lineplot(x='sample_size', y='mean', hue='experiment', data=df_importance, markers=True, marker='o')\n",
    "plt.legend(bbox_to_anchor=(1.05, 1), loc=2, borderaxespad=0.)"
   ]
  },
  {
   "cell_type": "markdown",
   "id": "dutch-frank",
   "metadata": {},
   "source": []
  },
  {
   "cell_type": "code",
   "execution_count": null,
   "id": "hindu-charge",
   "metadata": {},
   "outputs": [],
   "source": []
  }
 ],
 "metadata": {
  "kernelspec": {
   "display_name": "Python 3",
   "language": "python",
   "name": "python3"
  },
  "language_info": {
   "codemirror_mode": {
    "name": "ipython",
    "version": 3
   },
   "file_extension": ".py",
   "mimetype": "text/x-python",
   "name": "python",
   "nbconvert_exporter": "python",
   "pygments_lexer": "ipython3",
   "version": "3.9.7"
  }
 },
 "nbformat": 4,
 "nbformat_minor": 5
}

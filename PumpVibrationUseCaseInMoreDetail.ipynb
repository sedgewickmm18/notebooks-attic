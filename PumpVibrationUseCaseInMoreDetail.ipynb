{
 "cells": [
  {
   "cell_type": "markdown",
   "id": "statewide-recycling",
   "metadata": {},
   "source": [
    "### Playing around with pump vibration data"
   ]
  },
  {
   "cell_type": "code",
   "execution_count": 1,
   "id": "empty-popularity",
   "metadata": {},
   "outputs": [],
   "source": [
    "import logging\n",
    "import threading\n",
    "import itertools\n",
    "import math\n",
    "import datetime\n",
    "import pandas as pd\n",
    "import numpy as np  \n",
    "import scipy as sp\n",
    "import json\n",
    "import ibm_db\n",
    "\n",
    "import matplotlib.pyplot as plt\n",
    "from matplotlib import cm\n",
    "from mpl_toolkits.mplot3d import axes3d\n",
    "import seaborn as seabornInstance\n",
    "\n",
    "import datetime as dt\n",
    "from sklearn.model_selection import train_test_split \n",
    "from sklearn import metrics\n",
    "from sklearn import ensemble\n",
    "from sklearn import linear_model\n",
    "from sklearn import model_selection\n",
    "from sklearn.neighbors import (KernelDensity, LocalOutlierFactor, NearestNeighbors, kneighbors_graph)\n",
    "from sklearn.pipeline import Pipeline, TransformerMixin\n",
    "from sklearn.mixture import BayesianGaussianMixture\n",
    "from sklearn.preprocessing import (StandardScaler, RobustScaler, MinMaxScaler,\n",
    "                                   minmax_scale, PolynomialFeatures)\n",
    "from sklearn.covariance import MinCovDet\n",
    "from sklearn.utils import check_array\n",
    "\n",
    "\n",
    "\n",
    "from pandas.plotting import register_matplotlib_converters\n",
    "import seaborn as sns\n",
    "register_matplotlib_converters()\n",
    "\n",
    "logger = logging.getLogger(__name__)"
   ]
  },
  {
   "cell_type": "code",
   "execution_count": 2,
   "id": "marine-vintage",
   "metadata": {},
   "outputs": [],
   "source": [
    "# read data\n",
    "filename = \"./data/IOT_SHADOW_PUMP_DE_GEN5_202102231533.csv.bz2\" # Pump 04714B601096  pump stopped half the time\n",
    "#filename = \"./data/IOT_SHADOW_PUMP_DE_GEN5_202202161319.csv.bz2\" # Pump 04714B603408\n",
    "#filename = \"./data/IOT_SHADOW_PUMP_DE_GEN5_202202161408.csv.bz2\" # Pump 04714B606390\n",
    "#filename = \"./data/IOT_SHADOW_PUMP_DE_GEN5_202202171340.csv.bz2\" # Pump 04714B6037F8 good case\n",
    "#filename = \"./data/IOT_SHADOW_PUMP_DE_GEN5_202202171348.csv.bz2\" # Pump 04714B60382B\n",
    "#filename = \"./data/IOT_SHADOW_PUMP_DE_GEN5_202202171815.csv.bz2\" # Pump 04714FEF0005 very boring, off most of the time\n",
    "#filename = \"./data/IOT_SHADOW_PUMP_DE_GEN5_202202171827.csv.bz2\" # Pump 04714B6036B1\n",
    "#filename = \"./data/IOT_SHADOW_PUMP_DE_GEN5_202202171835.csv.bz2\" # Pump 04714B605699\n",
    "#filename = \"./data/IOT_SHADOW_PUMP_DE_GEN5_202202171840.csv.bz2\" # Pump 04714B60553A\n",
    "#filename = \"./data/IOT_SHADOW_PUMP_DE_GEN5_202202171847.csv.bz2\" # Pump 04714B60205C\n",
    "#filename = \"./data/IOT_SHADOW_PUMP_DE_GEN5_202202171848.csv.bz2\" # Pump 04714B6029FF\n",
    "#filename = \"./data/IOT_SHADOW_PUMP_DE_GEN5_202202171852.csv.bz2\" # Pump 04714B604101\n",
    "\n",
    "\n",
    "dff = pd.read_csv(filename, parse_dates=['EVT_TIMESTAMP'], comment='#')\n",
    "dff.columns = dff.columns.str.lower() \n",
    "df_clean = dff.drop(columns=['devicetype','logicalinterface_id','eventtype','format',\n",
    "                             'rcv_timestamp_utc','updated_utc']).set_index(['deviceid','evt_timestamp']).dropna()\n",
    "df_clean2 = df_clean[df_clean['speed'] >= 0] \n",
    "df_clean = df_clean2[df_clean2['power'] >= 0]\n"
   ]
  },
  {
   "cell_type": "code",
   "execution_count": 3,
   "id": "atlantic-faith",
   "metadata": {},
   "outputs": [
    {
     "data": {
      "text/html": [
       "<div>\n",
       "<style scoped>\n",
       "    .dataframe tbody tr th:only-of-type {\n",
       "        vertical-align: middle;\n",
       "    }\n",
       "\n",
       "    .dataframe tbody tr th {\n",
       "        vertical-align: top;\n",
       "    }\n",
       "\n",
       "    .dataframe thead th {\n",
       "        text-align: right;\n",
       "    }\n",
       "</style>\n",
       "<table border=\"1\" class=\"dataframe\">\n",
       "  <thead>\n",
       "    <tr style=\"text-align: right;\">\n",
       "      <th></th>\n",
       "      <th></th>\n",
       "      <th>rms_x</th>\n",
       "      <th>rms_z</th>\n",
       "      <th>rms_y</th>\n",
       "      <th>power</th>\n",
       "      <th>speed</th>\n",
       "    </tr>\n",
       "    <tr>\n",
       "      <th>deviceid</th>\n",
       "      <th>evt_timestamp</th>\n",
       "      <th></th>\n",
       "      <th></th>\n",
       "      <th></th>\n",
       "      <th></th>\n",
       "      <th></th>\n",
       "    </tr>\n",
       "  </thead>\n",
       "  <tbody>\n",
       "    <tr>\n",
       "      <th rowspan=\"5\" valign=\"top\">04714B601096</th>\n",
       "      <th>2020-07-19-10.15.05.144000</th>\n",
       "      <td>0.095934</td>\n",
       "      <td>0.059262</td>\n",
       "      <td>0.956817</td>\n",
       "      <td>1.7270</td>\n",
       "      <td>1059.0</td>\n",
       "    </tr>\n",
       "    <tr>\n",
       "      <th>2020-07-19-10.15.25.144000</th>\n",
       "      <td>0.093044</td>\n",
       "      <td>0.060636</td>\n",
       "      <td>0.957341</td>\n",
       "      <td>1.7298</td>\n",
       "      <td>1059.0</td>\n",
       "    </tr>\n",
       "    <tr>\n",
       "      <th>2020-07-19-10.15.45.144000</th>\n",
       "      <td>0.090586</td>\n",
       "      <td>0.062215</td>\n",
       "      <td>0.956682</td>\n",
       "      <td>1.7298</td>\n",
       "      <td>1059.0</td>\n",
       "    </tr>\n",
       "    <tr>\n",
       "      <th>2020-07-19-10.19.25.165000</th>\n",
       "      <td>0.091974</td>\n",
       "      <td>0.063664</td>\n",
       "      <td>0.956705</td>\n",
       "      <td>1.7262</td>\n",
       "      <td>1059.0</td>\n",
       "    </tr>\n",
       "    <tr>\n",
       "      <th>2020-07-19-10.19.45.165000</th>\n",
       "      <td>0.094407</td>\n",
       "      <td>0.061748</td>\n",
       "      <td>0.956924</td>\n",
       "      <td>1.7262</td>\n",
       "      <td>1059.0</td>\n",
       "    </tr>\n",
       "    <tr>\n",
       "      <th>...</th>\n",
       "      <th>...</th>\n",
       "      <td>...</td>\n",
       "      <td>...</td>\n",
       "      <td>...</td>\n",
       "      <td>...</td>\n",
       "      <td>...</td>\n",
       "    </tr>\n",
       "    <tr>\n",
       "      <th rowspan=\"5\" valign=\"top\">04714B606390</th>\n",
       "      <th>2021-02-23-10.19.45.813000</th>\n",
       "      <td>0.018351</td>\n",
       "      <td>1.022032</td>\n",
       "      <td>0.021606</td>\n",
       "      <td>0.0000</td>\n",
       "      <td>0.0</td>\n",
       "    </tr>\n",
       "    <tr>\n",
       "      <th>2021-02-23-10.20.05.813000</th>\n",
       "      <td>0.018063</td>\n",
       "      <td>1.021309</td>\n",
       "      <td>0.021091</td>\n",
       "      <td>0.0000</td>\n",
       "      <td>0.0</td>\n",
       "    </tr>\n",
       "    <tr>\n",
       "      <th>2021-02-23-10.20.25.813000</th>\n",
       "      <td>0.018158</td>\n",
       "      <td>1.022185</td>\n",
       "      <td>0.021522</td>\n",
       "      <td>0.0000</td>\n",
       "      <td>0.0</td>\n",
       "    </tr>\n",
       "    <tr>\n",
       "      <th>2021-02-23-10.24.10.322000</th>\n",
       "      <td>0.018733</td>\n",
       "      <td>1.020812</td>\n",
       "      <td>0.021202</td>\n",
       "      <td>0.0000</td>\n",
       "      <td>0.0</td>\n",
       "    </tr>\n",
       "    <tr>\n",
       "      <th>2021-02-23-10.24.30.322000</th>\n",
       "      <td>0.018419</td>\n",
       "      <td>1.021242</td>\n",
       "      <td>0.021592</td>\n",
       "      <td>0.0000</td>\n",
       "      <td>0.0</td>\n",
       "    </tr>\n",
       "  </tbody>\n",
       "</table>\n",
       "<p>861165 rows × 5 columns</p>\n",
       "</div>"
      ],
      "text/plain": [
       "                                            rms_x     rms_z     rms_y   power  \\\n",
       "deviceid     evt_timestamp                                                      \n",
       "04714B601096 2020-07-19-10.15.05.144000  0.095934  0.059262  0.956817  1.7270   \n",
       "             2020-07-19-10.15.25.144000  0.093044  0.060636  0.957341  1.7298   \n",
       "             2020-07-19-10.15.45.144000  0.090586  0.062215  0.956682  1.7298   \n",
       "             2020-07-19-10.19.25.165000  0.091974  0.063664  0.956705  1.7262   \n",
       "             2020-07-19-10.19.45.165000  0.094407  0.061748  0.956924  1.7262   \n",
       "...                                           ...       ...       ...     ...   \n",
       "04714B606390 2021-02-23-10.19.45.813000  0.018351  1.022032  0.021606  0.0000   \n",
       "             2021-02-23-10.20.05.813000  0.018063  1.021309  0.021091  0.0000   \n",
       "             2021-02-23-10.20.25.813000  0.018158  1.022185  0.021522  0.0000   \n",
       "             2021-02-23-10.24.10.322000  0.018733  1.020812  0.021202  0.0000   \n",
       "             2021-02-23-10.24.30.322000  0.018419  1.021242  0.021592  0.0000   \n",
       "\n",
       "                                          speed  \n",
       "deviceid     evt_timestamp                       \n",
       "04714B601096 2020-07-19-10.15.05.144000  1059.0  \n",
       "             2020-07-19-10.15.25.144000  1059.0  \n",
       "             2020-07-19-10.15.45.144000  1059.0  \n",
       "             2020-07-19-10.19.25.165000  1059.0  \n",
       "             2020-07-19-10.19.45.165000  1059.0  \n",
       "...                                         ...  \n",
       "04714B606390 2021-02-23-10.19.45.813000     0.0  \n",
       "             2021-02-23-10.20.05.813000     0.0  \n",
       "             2021-02-23-10.20.25.813000     0.0  \n",
       "             2021-02-23-10.24.10.322000     0.0  \n",
       "             2021-02-23-10.24.30.322000     0.0  \n",
       "\n",
       "[861165 rows x 5 columns]"
      ]
     },
     "execution_count": 3,
     "metadata": {},
     "output_type": "execute_result"
    }
   ],
   "source": [
    "df_clean"
   ]
  },
  {
   "cell_type": "markdown",
   "id": "dependent-oxygen",
   "metadata": {},
   "source": [
    "### Pumps and vibration\n",
    "\n",
    "#### Why customers are interested in vibration ?\n",
    "\n",
    "Vibration is an undesired side effect of pump operation in general.\n",
    "Vibration causes tear and wear of moving parts, from grinding down ball-bearings to loosing tie-down bolts etc.\n",
    "Vice versa wear and tear causes increase in severity.\n",
    "So essentially we want to monitor vibration and get alerted if the vibration levels changes significantly. \n",
    "\n",
    "#### Why we need instance specific models ?\n",
    "\n",
    "Resonance is a condition where the forced vibration frequency aligns with a structural or rotor natural frequency resulting in amplified vibration.\n",
    "\n"
   ]
  },
  {
   "cell_type": "markdown",
   "id": "colored-wilderness",
   "metadata": {},
   "source": [
    "\n",
    "### Measuring vibration\n",
    "\n",
    "#### Frequency\n",
    "\n",
    "Frequency means the number of times that vibrating object generates a repetitive motion in 1 second.\n",
    "\n",
    "#### Displacement\n",
    "\n",
    "Displacement means the amplitude (distance) between the peaks of vibration.\n",
    "\n",
    "#### Velocity\n",
    "\n",
    "Velocity means the changing rate of displacement (D) to time\n",
    "\n",
    "#### Acceleration\n",
    "\n",
    "Acceleration means the changing rate of velocity(V) to time\n",
    "\n",
    "### Derived metrics\n",
    "\n",
    "##### Peak amplitude\n",
    "\n",
    "<img src=\"./images/img_function_01.gif\" height=20% width=20%>\n",
    "\n",
    "##### Root Mean Square value\n",
    "\n",
    "<img src=\"./images/img_function_02.gif\" height=20% width=20%>\n",
    "\n",
    "\n",
    "From https://www.imv.co.jp/e/pr/vibration_measuring/chapter03/"
   ]
  },
  {
   "cell_type": "markdown",
   "id": "racial-beaver",
   "metadata": {},
   "source": [
    "### Standard analysis\n",
    "\n",
    "##### Spectral analysis\n",
    "\n",
    "<img src=\"./images/img_fft2_02.gif\" height=20% width=20%>\n",
    "\n",
    "#### But ...\n",
    "\n",
    "But we have only the root mean square as the embedded controller runs an FFT every 20 secs\n",
    "\n",
    "\n",
    "So we have to go another route, let's start with\n"
   ]
  },
  {
   "cell_type": "markdown",
   "id": "korean-wrong",
   "metadata": {},
   "source": [
    "### Cube Law\n",
    "\n",
    "It takes eight times the power to drive a centrifugal pump with double speed, so we can either use power or speed.\n",
    "\n",
    "Let's validate it here"
   ]
  },
  {
   "cell_type": "code",
   "execution_count": 4,
   "id": "metallic-entity",
   "metadata": {},
   "outputs": [
    {
     "data": {
      "text/plain": [
       "(861165,)"
      ]
     },
     "execution_count": 4,
     "metadata": {},
     "output_type": "execute_result"
    }
   ],
   "source": [
    "df_clean['power'].values.shape"
   ]
  },
  {
   "cell_type": "code",
   "execution_count": 5,
   "id": "russian-italian",
   "metadata": {
    "scrolled": true
   },
   "outputs": [
    {
     "data": {
      "text/plain": [
       "Pipeline(steps=[('scaler', StandardScaler()),\n",
       "                ('poly', PolynomialFeatures(degree=3, include_bias=False)),\n",
       "                ('bridge', BayesianRidge(compute_score=True))])"
      ]
     },
     "execution_count": 5,
     "metadata": {},
     "output_type": "execute_result"
    }
   ],
   "source": [
    "steps = [('scaler', StandardScaler()),\n",
    "         ('poly', PolynomialFeatures(degree=3, include_bias=False)),\n",
    "         ('bridge', linear_model.BayesianRidge(compute_score=True))]\n",
    "\n",
    "pipe = Pipeline(steps)\n",
    "\n",
    "# train/test split for time series data\n",
    "\n",
    "#df_subset = df_clean[df_clean['speed'] > 2]\n",
    "\n",
    "percent80 = int(df_clean.shape[0] * 4/5)\n",
    "\n",
    "df_train = df_clean[:percent80]\n",
    "df_test = df_clean[percent80:]\n",
    "\n",
    "\n",
    "pipe.fit(df_train['speed'].values.reshape(-1,1), df_train['power'].values)"
   ]
  },
  {
   "cell_type": "markdown",
   "id": "metallic-default",
   "metadata": {},
   "source": [
    "### How are we doing ?"
   ]
  },
  {
   "cell_type": "code",
   "execution_count": 6,
   "id": "narrative-enhancement",
   "metadata": {},
   "outputs": [
    {
     "data": {
      "text/plain": [
       "(0.44003445563255483, 0.4394495848868242)"
      ]
     },
     "execution_count": 6,
     "metadata": {},
     "output_type": "execute_result"
    }
   ],
   "source": [
    "# how good are we doing on the training set\n",
    "pipe_score_train = pipe.score(df_train['speed'].values.reshape(-1,1), df_train['power'].values)\n",
    "pipe_score_test = pipe.score(df_test['speed'].values.reshape(-1,1), df_test['power'].values)\n",
    "\n",
    "pipe_score_train, pipe_score_test"
   ]
  },
  {
   "cell_type": "markdown",
   "id": "muslim-firmware",
   "metadata": {},
   "source": [
    "### It's mediocre, but let's show the results\n",
    "\n",
    "we include power and speed for **this** particular pump"
   ]
  },
  {
   "cell_type": "code",
   "execution_count": 7,
   "id": "concerned-champion",
   "metadata": {},
   "outputs": [],
   "source": [
    "mean, stddev = pipe.predict(df_clean['speed'].values.reshape(-1,1), return_std=True)"
   ]
  },
  {
   "cell_type": "code",
   "execution_count": 8,
   "id": "preliminary-salon",
   "metadata": {},
   "outputs": [
    {
     "data": {
      "text/plain": [
       "Text(0, 0.5, 'unit less:\\n Vibration rms_x and Power')"
      ]
     },
     "execution_count": 8,
     "metadata": {},
     "output_type": "execute_result"
    },
    {
     "data": {
      "image/png": "[encoded data removed]",
      "text/plain": [
       "<Figure size 1440x576 with 1 Axes>"
      ]
     },
     "metadata": {
      "needs_background": "light"
     },
     "output_type": "display_data"
    }
   ],
   "source": [
    "# this is unreadable\n",
    "slow = df_clean['speed'].values.copy()\n",
    "slow[slow <= 10] = 10\n",
    "slow[slow > 10] = np.nan\n",
    "\n",
    "fig, ax = plt.subplots(1, 1, figsize=(20, 8), squeeze=False)\n",
    "i = 0\n",
    "rg = range(df_clean['power'].values.size)\n",
    "#ax[i,0].plot(rg, df_clean['max'] + 0.5, lw=0.4, color='blue', label='local max vib')\n",
    "#ax[i,0].plot(rg, df_clean['power'], lw=0.4, color='green', label='power')\n",
    "#ax[i,0].plot(rg, df_clean['speed']/100+10, lw=0.4, color='blue', zorder=2, label='speed/100-2')\n",
    "\n",
    "ax[i,0].scatter(rg, slow, lw=1, color='violet', zorder=3, label='pump stopping')\n",
    "#ax[i,0].plot(rg, mean-5, lw=0.4, color='orange', zorder=1, label='|power - pred_power|')\n",
    "\n",
    "ax[i,0].plot(rg, abs(df_clean['power'] - mean), lw=0.4, color='green', zorder=1, label='|power - pred_power|')\n",
    "#ax[i,0].fill_between(rg, mean-stddev*2, mean+stddev*2, lw=0.05, color='orange')\n",
    "\n",
    "ax[i,0].legend()\n",
    "ax[i,0].set_title('04714B601096')\n",
    "#ax[i,0].set_title('04714B603408')\n",
    "ax[i,0].set_xlabel('Time')\n",
    "ax[i,0].set_ylabel('unit less:\\n Vibration rms_x and Power')\n"
   ]
  },
  {
   "cell_type": "markdown",
   "id": "boring-collapse",
   "metadata": {},
   "source": [
    "### Looking into vibration data itself"
   ]
  },
  {
   "cell_type": "code",
   "execution_count": 9,
   "id": "major-battle",
   "metadata": {
    "scrolled": false
   },
   "outputs": [
    {
     "data": {
      "text/plain": [
       "Text(0, 0.5, 'unit less:\\n Vibration rms_x and Power')"
      ]
     },
     "execution_count": 9,
     "metadata": {},
     "output_type": "execute_result"
    },
    {
     "data": {
      "image/png": "[encoded data removed]",
      "text/plain": [
       "<Figure size 720x360 with 1 Axes>"
      ]
     },
     "metadata": {
      "needs_background": "light"
     },
     "output_type": "display_data"
    }
   ],
   "source": [
    "df_i = df_clean.reset_index().set_index('deviceid')\n",
    "\n",
    "fig, ax = plt.subplots(1, 1, figsize=(10, 5), squeeze=False)\n",
    "i = 0\n",
    "rg = range(df_i['power'].values.size)\n",
    "#ax[i,0].plot(rg, df_i['max'] + 0.5, lw=0.4, color='blue', label='local max vib')\n",
    "#ax[i,0].plot(rg, df_i['power'], lw=0.4, color='green', label='power')\n",
    "ax[i,0].plot(rg, df_i['speed']/1000, lw=0.4, color='blue', label='speed/1000')\n",
    "\n",
    "ax[i,0].plot(rg, df_i['rms_x'], lw=0.4, color='orange', label='vibration')\n",
    "ax[i,0].legend()\n",
    "ax[i,0].set_title('04714B603408')\n",
    "\n",
    "ax[i,0].set_xlabel('Time')\n",
    "ax[i,0].set_ylabel('unit less:\\n Vibration rms_x and Power')\n"
   ]
  },
  {
   "cell_type": "markdown",
   "id": "blessed-astrology",
   "metadata": {},
   "source": [
    "### Next steps\n",
    "\n",
    "#### Could we predict vibration of (rotor) speed ?\n",
    "\n",
    "From the graph it doesn't look plausible. I have tried expecting to fail and actually failed ;-)\n",
    "\n",
    "#### What have we tried instead ?\n",
    "\n",
    "Because of resonance effects we expected to see vibration patterns depending on impeller speed. Since we're only interested in outliers we look for low density areas of vibration w.r.t speed.\n",
    "We applied bivariate kernel density estimates, found out that this is quite CPU intensive and looked for a more light-weight approximation\n"
   ]
  },
  {
   "cell_type": "markdown",
   "id": "young-garlic",
   "metadata": {},
   "source": [
    "### Looking into the joint distribution of vibration and speed\n",
    "\n",
    "excluding \"pump switched off\" scenarios with speed slower than 1000"
   ]
  },
  {
   "cell_type": "code",
   "execution_count": 10,
   "id": "noble-poker",
   "metadata": {},
   "outputs": [],
   "source": [
    "# display KDE - and make sure just to take a subset !\n",
    "#df_display = df_clean[df_clean['speed'] > 1000]\n",
    "df_display = df_clean\n",
    "\n",
    "#sns.set_style('ticks')\n",
    "#gx = sns.kdeplot(data = df_display, x='speed', y='rms_x', fill=True, palette=\"crest\")\n",
    "#gx.title.set_text('KDE for ' + df_clean.index.levels[0].values[0])"
   ]
  },
  {
   "cell_type": "markdown",
   "id": "becoming-canon",
   "metadata": {},
   "source": [
    "### Estimate and evaluate the density\n",
    "\n",
    "of vibration w.r.t. speed"
   ]
  },
  {
   "cell_type": "code",
   "execution_count": 11,
   "id": "blocked-surfing",
   "metadata": {
    "scrolled": true
   },
   "outputs": [],
   "source": [
    "xy = np.vstack([df_clean['speed'].values, df_clean['rms_x'].values]).T\n",
    "#plt.scatter(xy[:,0], xy[:,1], s=40, cmap='viridis');"
   ]
  },
  {
   "cell_type": "markdown",
   "id": "elementary-bridal",
   "metadata": {},
   "source": [
    "### First approach: apply KDE\n",
    "\n",
    "to find global outliers"
   ]
  },
  {
   "cell_type": "code",
   "execution_count": 12,
   "id": "small-circular",
   "metadata": {},
   "outputs": [
    {
     "data": {
      "text/plain": [
       "'\\ndf_display = df_clean[percent80:].copy()\\n\\nfrom statsmodels.nonparametric.kernel_density import KDEMultivariate\\n\\nxy2 = np.hstack([df_clean[\\'speed\\'].values, df_clean[\\'rms_x\\'].values])\\n\\nkde_model = KDEMultivariate(xy2, var_type=\"c\") # * (len(xy[:,0]) + len(xy[:,1])))\\n\\npred_kde = kde_model.pdf(xy2).reshape(-1,1)\\n'"
      ]
     },
     "execution_count": 12,
     "metadata": {},
     "output_type": "execute_result"
    }
   ],
   "source": [
    "# run with the full set at your peril - it will take many hours\n",
    "'''\n",
    "df_display = df_clean[percent80:].copy()\n",
    "\n",
    "from statsmodels.nonparametric.kernel_density import KDEMultivariate\n",
    "\n",
    "xy2 = np.hstack([df_clean['speed'].values, df_clean['rms_x'].values])\n",
    "\n",
    "kde_model = KDEMultivariate(xy2, var_type=\"c\") # * (len(xy[:,0]) + len(xy[:,1])))\n",
    "\n",
    "pred_kde = kde_model.pdf(xy2).reshape(-1,1)\n",
    "'''"
   ]
  },
  {
   "cell_type": "markdown",
   "id": "going-module",
   "metadata": {},
   "source": [
    "### Second approach: variable bandwidth KDE \n",
    "\n",
    "#### Apply a convolution like scheme\n",
    "\n",
    "Use a Gaussian like kernel (N = dimension)\n",
    "\n",
    "$$\n",
    "    f_i(x) = \\frac{\\zeta_i^N}{\\pi} \\exp^{- \\frac{(x-x_i)^2}{\\zeta^N}}\n",
    "$$\n",
    "    \n",
    "    and sort of a variable bandwidth estimator\n",
    "    using the KNN results as local density approximation\n",
    "    \n",
    "$$       \n",
    "    \\zeta_i = \\frac{\\gamma}{(1 + d_i)^N}\n",
    "$$\n",
    "    Then define\n",
    "$$\n",
    "    Z(x) = \\sum_i f_i(x)  \\approx \\int_{I} f_i(x) dI\n",
    "$$\n",
    "    and use a normalizer\n",
    "$$\n",
    "    T = \\alpha \\max_{i}(Z(x_i))\n",
    "$$\n",
    "as anomaly score threshold\n",
    "\n",
    "For a reference the following wikipedia article about [Variable KDE](https://en.wikipedia.org/wiki/Variable_kernel_density_estimation) is a good starting point, but it doesn't cover the usage of KNN approximation to the local density as input for ballooning.\n"
   ]
  },
  {
   "cell_type": "code",
   "execution_count": 13,
   "id": "hundred-method",
   "metadata": {},
   "outputs": [
    {
     "data": {
      "text/plain": [
       "\"\\nxy = np.vstack([df_clean['speed'].values, df_clean['rms_x'].values]).T\\n\\nxy2 = xy[0:50000]\\n\\nnbrs = NearestNeighbors(n_neighbors=7, algorithm='ball_tree').fit(xy2)\\n\""
      ]
     },
     "execution_count": 13,
     "metadata": {},
     "output_type": "execute_result"
    }
   ],
   "source": [
    "# do not even try - takes more than 2 hours\n",
    "\n",
    "'''\n",
    "xy = np.vstack([df_clean['speed'].values, df_clean['rms_x'].values]).T\n",
    "\n",
    "xy2 = xy[0:50000]\n",
    "\n",
    "nbrs = NearestNeighbors(n_neighbors=7, algorithm='ball_tree').fit(xy2)\n",
    "'''"
   ]
  },
  {
   "cell_type": "code",
   "execution_count": 14,
   "id": "acquired-suspension",
   "metadata": {},
   "outputs": [
    {
     "data": {
      "text/plain": [
       "'\\nk = 7\\ndist, indices = nbrs.kneighbors(xy2)\\n# find distance to k-th nearest neighbor\\nk_distances = np.array([dist[i][k - 1] for i in range(len(dist))])\\n'"
      ]
     },
     "execution_count": 14,
     "metadata": {},
     "output_type": "execute_result"
    }
   ],
   "source": [
    "'''\n",
    "k = 7\n",
    "dist, indices = nbrs.kneighbors(xy2)\n",
    "# find distance to k-th nearest neighbor\n",
    "k_distances = np.array([dist[i][k - 1] for i in range(len(dist))])\n",
    "'''"
   ]
  },
  {
   "cell_type": "code",
   "execution_count": 15,
   "id": "applied-peoples",
   "metadata": {},
   "outputs": [
    {
     "data": {
      "text/plain": [
       "'\\n# Hyperparms\\ngamma = 1.1\\nalpha = 0.1\\nN = 2  # dimension\\n\\nzeta_ = []\\nzett = np.zeros_like(k_distances)\\nfor idx, d_k in np.ndenumerate(k_distances):\\n    zeta_i = gamma/(1 + d_k)**N\\n    zeta_.append(zeta_i)\\n    # offset variance - evaluate scaled Gaussian\\n    zett += zeta_i**4 * sp.stats.multivariate_normal.pdf(xy2, mean=xy2[idx,:].reshape(-1,), cov=zeta_i)\\n\\nzeta = np.array(zeta_)\\n\\nT = alpha * max(zett)\\n'"
      ]
     },
     "execution_count": 15,
     "metadata": {},
     "output_type": "execute_result"
    }
   ],
   "source": [
    "'''\n",
    "# Hyperparms\n",
    "gamma = 1.1\n",
    "alpha = 0.1\n",
    "N = 2  # dimension\n",
    "\n",
    "zeta_ = []\n",
    "zett = np.zeros_like(k_distances)\n",
    "for idx, d_k in np.ndenumerate(k_distances):\n",
    "    zeta_i = gamma/(1 + d_k)**N\n",
    "    zeta_.append(zeta_i)\n",
    "    # offset variance - evaluate scaled Gaussian\n",
    "    zett += zeta_i**4 * sp.stats.multivariate_normal.pdf(xy2, mean=xy2[idx,:].reshape(-1,), cov=zeta_i)\n",
    "\n",
    "zeta = np.array(zeta_)\n",
    "\n",
    "T = alpha * max(zett)\n",
    "'''"
   ]
  },
  {
   "cell_type": "code",
   "execution_count": 16,
   "id": "central-amino",
   "metadata": {},
   "outputs": [],
   "source": [
    "# show\n",
    "#plt.scatter(xy2[:, 0], xy2[:, 1], c=zett, s=40, cmap='viridis')\n",
    "#plt.title('Anomalies in bright colors')"
   ]
  },
  {
   "cell_type": "markdown",
   "id": "existing-refund",
   "metadata": {},
   "source": [
    "### Approach 3: COPOD\n",
    "\n",
    "#### Constructing the Copula\n",
    "\n",
    "For each dimension we approximate\n",
    "$$\n",
    "    P(\\{X_{i} < X \\})\n",
    "$$\n",
    "with the empirical CDF for each dimension i.\n",
    "\n",
    "This is independent of all other dimensions, so it's the marginal (e)CDF.\n",
    "\n",
    "Since **this set of marginal CDFs uniquely determines the joint CDF**, the idea behind COPOD is to analyze each of the marginal CDFs. \n",
    "\n",
    "\n",
    "**Caveat**: Won't work well for outliers not on the tail (strongly multimodally distributed data.) and for tightly correlated data as we treat features as statistically independent."
   ]
  },
  {
   "cell_type": "code",
   "execution_count": 48,
   "id": "recovered-logan",
   "metadata": {},
   "outputs": [],
   "source": [
    "### COPOD\n",
    "from statsmodels.distributions.empirical_distribution import ECDF\n",
    "from scipy.stats import gaussian_kde\n",
    "from scipy.stats import skew\n",
    "import skimage as ski\n",
    "from skimage import util as skiutil\n",
    "\n",
    "xy = np.vstack([df_clean['speed'].values, df_clean['power'], df_clean['rms_x'].values]).T"
   ]
  },
  {
   "cell_type": "code",
   "execution_count": 49,
   "id": "liberal-bidding",
   "metadata": {},
   "outputs": [],
   "source": [
    "def ecdf(X):\n",
    "    ecdf = ECDF(X)\n",
    "    return ecdf(X)"
   ]
  },
  {
   "cell_type": "code",
   "execution_count": 50,
   "id": "absolute-device",
   "metadata": {},
   "outputs": [
    {
     "data": {
      "text/plain": [
       "(861165, 3)"
      ]
     },
     "execution_count": 50,
     "metadata": {},
     "output_type": "execute_result"
    }
   ],
   "source": [
    "#temp_win = skiutil.view_as_windows(df, window_shape=(6,), step=1)\n",
    "xy.shape"
   ]
  },
  {
   "cell_type": "code",
   "execution_count": 51,
   "id": "ranking-morgan",
   "metadata": {},
   "outputs": [],
   "source": [
    "# compute P({t < x}) and P({t < -x}) for each dimension according to the empirical CDF ()\n",
    "#\n",
    "left_log_univariate_cdfs = -1 * np.log(np.apply_along_axis(ecdf, 0, xy))\n",
    "right_log_univariate_cdfs = -1 * np.log(np.apply_along_axis(ecdf, 0, -xy))"
   ]
  },
  {
   "cell_type": "code",
   "execution_count": 52,
   "id": "heard-weekend",
   "metadata": {},
   "outputs": [
    {
     "data": {
      "text/plain": [
       "Text(0.5, 1.0, 'Example log ECDF evaluated')"
      ]
     },
     "execution_count": 52,
     "metadata": {},
     "output_type": "execute_result"
    },
    {
     "data": {
      "image/png": "[encoded data removed]",
      "text/plain": [
       "<Figure size 432x288 with 1 Axes>"
      ]
     },
     "metadata": {
      "needs_background": "light"
     },
     "output_type": "display_data"
    }
   ],
   "source": [
    "#plt.plot(range(len(left_log_univariate_cdfs[:, 0])), left_log_univariate_cdfs[:,0], lw=0.2)\n",
    "plt.plot(range(len(left_log_univariate_cdfs[:, 2])), left_log_univariate_cdfs[:,2], lw=0.2)\n",
    "plt.title('Example log ECDF evaluated')"
   ]
  },
  {
   "cell_type": "code",
   "execution_count": 53,
   "id": "ambient-veteran",
   "metadata": {},
   "outputs": [],
   "source": [
    "# COPOD: adjust for skewness (more weight on left or right tail) for each dimension\n",
    "skewness = np.sign(skew(xy, axis=0))  # +1 stronger right tail, -1 stronger left tail\n",
    "\n",
    "# apply skewness for each dimension: consider the heavier tail\n",
    "U_skew = left_log_univariate_cdfs * -1 * np.sign(skewness - 1) + right_log_univariate_cdfs  * np.sign(skewness + 1)\n",
    "\n",
    "# elements \n",
    "O = np.maximum(U_skew, np.add(left_log_univariate_cdfs, right_log_univariate_cdfs) / 2)"
   ]
  },
  {
   "cell_type": "code",
   "execution_count": 54,
   "id": "painful-branch",
   "metadata": {},
   "outputs": [
    {
     "data": {
      "text/plain": [
       "array([-0.00620592,  0.94412784,  2.19065999])"
      ]
     },
     "execution_count": 54,
     "metadata": {},
     "output_type": "execute_result"
    }
   ],
   "source": [
    "skew(xy, axis=0)"
   ]
  },
  {
   "cell_type": "code",
   "execution_count": 55,
   "id": "subsequent-biography",
   "metadata": {},
   "outputs": [],
   "source": [
    "# ECOD\n",
    "O_ecod = np.maximum(U_skew, left_log_univariate_cdfs, right_log_univariate_cdfs)"
   ]
  },
  {
   "cell_type": "code",
   "execution_count": 56,
   "id": "secondary-pierce",
   "metadata": {},
   "outputs": [
    {
     "data": {
      "image/png": "[encoded data removed]",
      "text/plain": [
       "<Figure size 432x288 with 1 Axes>"
      ]
     },
     "metadata": {
      "needs_background": "light"
     },
     "output_type": "display_data"
    }
   ],
   "source": [
    "#plt.plot(range(len(U_skew[:, 0])), U_skew[:,0], lw=0.2)\n",
    "plt.plot(range(len(U_skew[:, 2])), U_skew[:,2], lw=0.2);"
   ]
  },
  {
   "cell_type": "code",
   "execution_count": 57,
   "id": "executive-lunch",
   "metadata": {},
   "outputs": [],
   "source": [
    "# let the ECDFs \"vote\" component-wise\n",
    "\n",
    "decision_score = O.sum(axis=1)\n",
    "decision_score_e = O_ecod.sum(axis=1)"
   ]
  },
  {
   "cell_type": "code",
   "execution_count": 58,
   "id": "random-engagement",
   "metadata": {},
   "outputs": [
    {
     "data": {
      "text/plain": [
       "17.63982582693627"
      ]
     },
     "execution_count": 58,
     "metadata": {},
     "output_type": "execute_result"
    }
   ],
   "source": [
    "decision_score.max()"
   ]
  },
  {
   "cell_type": "code",
   "execution_count": 59,
   "id": "alive-grace",
   "metadata": {},
   "outputs": [
    {
     "data": {
      "text/plain": [
       "(861165, 3)"
      ]
     },
     "execution_count": 59,
     "metadata": {},
     "output_type": "execute_result"
    }
   ],
   "source": [
    "xy.shape"
   ]
  },
  {
   "cell_type": "code",
   "execution_count": 60,
   "id": "occupied-teach",
   "metadata": {},
   "outputs": [
    {
     "data": {
      "image/png": "[encoded data removed]",
      "text/plain": [
       "<Figure size 800x400 with 1 Axes>"
      ]
     },
     "metadata": {
      "needs_background": "light"
     },
     "output_type": "display_data"
    }
   ],
   "source": [
    "# outliers in 2-d\n",
    "plt.figure(figsize=(10, 5), dpi=80)\n",
    "plt.scatter(xy[:, 0], xy[:, 2], c=decision_score, s=40, cmap='viridis');"
   ]
  },
  {
   "cell_type": "code",
   "execution_count": 61,
   "id": "analyzed-australian",
   "metadata": {},
   "outputs": [
    {
     "data": {
      "text/plain": [
       "Text(0, 0.5, 'unit less:\\n Vibration rms_x and Power')"
      ]
     },
     "execution_count": 61,
     "metadata": {},
     "output_type": "execute_result"
    },
    {
     "data": {
      "image/png": "[encoded data removed]",
      "text/plain": [
       "<Figure size 1440x720 with 1 Axes>"
      ]
     },
     "metadata": {
      "needs_background": "light"
     },
     "output_type": "display_data"
    }
   ],
   "source": [
    "rmsstr = 'rms_x'\n",
    "predstr = 'copod'\n",
    "anostr = 'AnomalyCX'\n",
    "\n",
    "df_i = df_clean.reset_index().set_index('deviceid')\n",
    "\n",
    "df_i[predstr] = decision_score * (df_i['speed'].values > 800).astype(float)\n",
    "\n",
    "anoma = decision_score.copy()\n",
    "anoma[anoma < 12] = np.nan\n",
    "(df_i['speed'].values > 800)\n",
    "df_i[anostr] = anoma\n",
    "\n",
    "fig, ax = plt.subplots(1, 1, figsize=(20, 10), squeeze=False)\n",
    "i = 0\n",
    "rg = range(df_i['speed'].values.size)\n",
    "ax[i,0].plot(rg, df_i['rms_x'], lw=0.4, color='green', label='vibration')\n",
    "ax[i,0].scatter(rg,df_i[anostr], lw=5, color='red', zorder=5, label='anomaly')\n",
    "\n",
    "ax[i,0].plot(rg, decision_score, lw=0.4, color='blue', zorder=4, label='mean')\n",
    "#ax[i,0].fill_between(rg, (predictions-pred_stddev).flatten(),\n",
    "#                     (predictions + pred_stddev).flatten(),\n",
    "#                     lw=0.04, color='orange', zorder=2, alpha=0.2, label='stddev')\n",
    "\n",
    "ax[i,0].legend()\n",
    "ax[i,0].set_title('04714B603408')\n",
    "\n",
    "ax[i,0].set_xlabel('Time')\n",
    "ax[i,0].set_ylabel('unit less:\\n Vibration rms_x and Power')"
   ]
  },
  {
   "cell_type": "markdown",
   "id": "atlantic-classic",
   "metadata": {},
   "source": [
    "### Direct density approaches work well but are too expensive\n",
    "\n",
    "for the full set and evaluating by parts doesn't yield any meaningful results\n",
    "\n",
    "\n",
    "### COPOD/ECOD are quite good, but\n",
    "\n",
    "it's harder to find a **suitable threshold**, resp. a good balance between too many false positives or negatives.\n",
    "\n",
    "And **more important**, you cannot use drift as indicator for wear and tear."
   ]
  },
  {
   "cell_type": "code",
   "execution_count": null,
   "id": "wanted-stuart",
   "metadata": {},
   "outputs": [],
   "source": []
  },
  {
   "cell_type": "code",
   "execution_count": null,
   "id": "twelve-minneapolis",
   "metadata": {},
   "outputs": [],
   "source": []
  },
  {
   "cell_type": "markdown",
   "id": "official-albuquerque",
   "metadata": {},
   "source": [
    "### Alternative approach\n",
    "\n",
    "Neither KDE evaluation nor variable bandwidth estimators can be evaluated in suitable time \n",
    "\n",
    "So we try to approximate it with \n",
    "\n",
    "$$\n",
    "   p(Vib | Speed) = \\mathcal{N}_{M(Speed), S(Speed))}\n",
    "$$\n",
    "\n",
    "where M and S are \"mildly\" non-linear functions"
   ]
  },
  {
   "cell_type": "markdown",
   "id": "minimal-watson",
   "metadata": {},
   "source": [
    "### Choosing the non-linearity\n",
    "\n",
    "According to the article [On the Number of Linear Regions of Deep Neural Networks](https://arxiv.org/pdf/1402.1869.pdf) a shallow network for n0-dimensional input and k units can cover\n",
    "\n",
    "$$\n",
    "    \\sum_{j}^{n_0} \\binom{k}{j}\n",
    "$$\n",
    "\n",
    "regions while a deeper network with L layers of width n_0 and rank k (number of units) can compute functions with at least\n",
    "\n",
    "$$\n",
    "k^{L−1} * k^{n_0}\n",
    "$$\n",
    "\n",
    "linear regions (Theorem 8).\n",
    "\n",
    "The following figure depicts this for bivariate input\n",
    "\n",
    "<img src=\"images/linear_regions.png\" height=40% width=40%>\n",
    "\n",
    "\n",
    "In our case with one-dimensional input this degenerates to (k + 1) intervals. Hence it would be advisable to spend a second layer at least.\n",
    "\n",
    "The following paper [Bounding and Counting Linear Regions of Deep Neural Networks](https://arxiv.org/pdf/1711.02114.pdf) develops a tighter bound for deep networks at\n",
    "\n",
    "$$\n",
    "     \\sum_{(j_0, ... , j_m) \\in \\mathbb{E}} \\prod \\binom{n_l}{j_l}\n",
    "$$\n",
    "\n",
    "L is the number of Layers, n_l number of rectifiable units in Layer l, input of dimension n0.\n",
    "\n",
    "\n",
    "For one-dimensional input and with all hidden layers at the same width n the bound is in the order of n^(L) intervals (for the \"pieces' of the approximating piecewise linear function).\n"
   ]
  },
  {
   "cell_type": "code",
   "execution_count": 30,
   "id": "proof-thailand",
   "metadata": {},
   "outputs": [],
   "source": [
    "import torch\n",
    "import torch.autograd\n",
    "import torch.nn as nn\n",
    "\n",
    "#######################################################################################\n",
    "# Variational Autoencoder\n",
    "#   to approximate probability distribution of targets with respect to features\n",
    "#######################################################################################\n",
    "# from https://www.ritchievink.com/blog/2019/09/16/variational-inference-from-scratch/\n",
    "#   usual ELBO with standard prior N(0,1), standard reparametrization\n",
    "\n",
    "# helper function\n",
    "def ll_gaussian(y, mu, log_var):\n",
    "    sigma = torch.exp(0.5 * log_var)\n",
    "    return -0.5 * torch.log(2 * np.pi * sigma**2) - (1 / (2 * sigma**2)) * (y-mu)**2\n",
    "\n",
    "\n",
    "def l_gaussian(y, mu, log_var):\n",
    "    sigma = torch.exp(0.5 * log_var)\n",
    "    return 1/torch.sqrt(2 * np.pi * sigma**2) / torch.exp((1 / (2 * sigma**2)) * (y-mu)**2)\n",
    "\n",
    "class VI(nn.Module):\n",
    "    def __init__(self, scaler, prior_mu=0.0, prior_sigma=1.0, beta=1.0, adjust_mean=0.0, version=None):\n",
    "        self.prior_mu = prior_mu\n",
    "        self.prior_sigma = prior_sigma\n",
    "        self.beta = beta\n",
    "        self.onnx_session = None\n",
    "        self.version = version\n",
    "        self.build_time = pd.Timestamp.now()\n",
    "        self.scaler = scaler\n",
    "        self.show_once = True\n",
    "        self.adjust_mean = adjust_mean\n",
    "        super().__init__()\n",
    "\n",
    "        self.q_mu = nn.Sequential(\n",
    "            nn.Linear(1, 20),    # mean  ~(20*10) regions\n",
    "            nn.ReLU(),\n",
    "            nn.Linear(20, 10),\n",
    "            nn.ReLU(),\n",
    "            nn.Linear(10, 1)\n",
    "        )\n",
    "\n",
    "        self.q_log_var = nn.Sequential(\n",
    "            nn.Linear(1, 50),    # one layer more for sigma  ~(50*35*10) regions\n",
    "            nn.ReLU(),\n",
    "            nn.Linear(50, 35),\n",
    "            nn.ReLU(),\n",
    "            nn.Linear(35, 10),\n",
    "            nn.ReLU(),\n",
    "            nn.Linear(10, 1)\n",
    "        )\n",
    "\n",
    "    # draw from N(mu, sigma)\n",
    "    def reparameterize(self, mu, log_var):\n",
    "        # std can not be negative, thats why we use log variance\n",
    "        sigma = torch.add(torch.exp(0.5 * log_var), 1e-7)\n",
    "        eps = torch.randn_like(sigma)\n",
    "        return mu + sigma * eps\n",
    "\n",
    "    # sample from the one-dimensional normal distribution N(mu, exp(log_var))\n",
    "    def forward(self, x):\n",
    "        mu = self.q_mu(x)\n",
    "        log_var = self.q_log_var(x)\n",
    "        return self.reparameterize(mu, log_var), mu, log_var\n",
    "\n"
   ]
  },
  {
   "cell_type": "markdown",
   "id": "dynamic-newman",
   "metadata": {},
   "source": [
    "### Standard loss function \n",
    "\n",
    "$$\n",
    "    log(p(x)) = \\underbrace{\\mathbb{E}_{q(z)} log \\frac{p(z,x)}{q(z)}}_{ELBO(q(z) || p(z|x))} + KL(q(z) || p(z| x))\n",
    "$$\n",
    "\n",
    "Rewrite ELBO\n",
    "\n",
    "$$\n",
    "    ELBO(q(z) || p(z|x)) = \\mathbb{E}_{q(z)} log p(x | z) + \\mathbb{E}_{q(z)} (log p(z) - log(q(z)))\n",
    "$$\n",
    "\n",
    "and apply the law of large numbers\n",
    "\n",
    "$$\n",
    "    \\frac{1}{M} \\sum_{M} \\ell_{q}(x)  + \\ell_{prior}(y_{pred}) - \\ell_{q}(y_{pred})\n",
    "$$"
   ]
  },
  {
   "cell_type": "code",
   "execution_count": 31,
   "id": "addressed-semester",
   "metadata": {},
   "outputs": [],
   "source": [
    "    # see 2.3 in https://arxiv.org/pdf/1312.6114.pdf\n",
    "    #\n",
    "    def elbo(self, y_pred, y, mu, log_var):\n",
    "\n",
    "        # Sample from p(x|z) by sampling from q(z|x), passing through decoder (y_pred)\n",
    "        # likelihood of observing y given Variational decoder mu and sigma - reconstruction error\n",
    "        log_qzCx = ll_gaussian(y, mu, log_var)\n",
    "\n",
    "        # KL - probability of sample y_pred w.r.t. prior\n",
    "        log_pz = ll_gaussian(y_pred, self.prior_mu, torch.log(torch.tensor(self.prior_sigma)))\n",
    "\n",
    "        # KL - probability of sample y_pred w.r.t the variational likelihood\n",
    "        log_pxCz = ll_gaussian(y_pred, mu, log_var)\n",
    "\n",
    "        ## Alternatively we could compute the KL div to the gaussian prior with something like\n",
    "        # KL = -0.5 * torch.sum(1 + log_var - torch.square(mu) - torch.exp(log_var)))\n",
    "        if self.show_once:\n",
    "            self.show_once = False\n",
    "            logger.info('Cardinalities: Mu: ' + str(mu.shape) + ' Sigma: ' + str(log_var.shape) +\n",
    "                        ' loglikelihood: ' + str(log_qzCx.shape) + ' KL value: ' +\n",
    "                        str((log_pz - log_pxCz).mean()))\n",
    "\n",
    "        # by taking the mean we approximate the expectation according to the law of large numbers\n",
    "        return (log_qzCx + self.beta * (log_pz - log_pxCz)).mean()\n",
    "\n",
    "VI.elbo = elbo"
   ]
  },
  {
   "cell_type": "markdown",
   "id": "prime-machine",
   "metadata": {},
   "source": [
    "### Importance weight ELBO loss function \n",
    "\n",
    "\n",
    "[Domke & Sheldon](https://proceedings.neurips.cc/paper/2018/file/25db67c5657914454081c6a18e93d6dd-Paper.pdf) depart from the random variable R for any fixed q\n",
    "\n",
    "$$\n",
    "    R = \\frac{p(z,x)}{q(z)} \\text{  and observe that:  } p(x) = \\mathbb{E}_{q} R\n",
    "$$\n",
    "    \n",
    "Putting more weight on the mean p(x) with averaging leads to\n",
    "\n",
    "$$\n",
    "        R_{M} = \\frac{1}{M} \\sum R_{i} \\text{  , still with: } log p(x) >= \\mathbb{E}_{q} log R_{M}\n",
    "$$\n",
    "\n",
    "As a result we get \n",
    "\n",
    "$$\n",
    "    IW{-}ELBO_{M}[q(z) | p(z,x)] = \\mathbb{E}_{q_{z_{1:m}}} log \\frac{1}{M} \\sum_{m} \\frac{p(z_{m},x)}{q(z_{m})} =\n",
    "    log \\frac{1}{M} + log \\sum \n",
    "$$\n",
    "\n",
    "Applying the law of large numbers we draw M samples from q to evaluate \n",
    "\n",
    "$$\n",
    "    log \\sum_{m}^{M} exp [ \\ell_{q_{m}}(x)  + \\ell_{prior}(y_{pred}) - \\ell_{q_{m}}(y_{pred}) ] - log M\n",
    "$$\n",
    "\n",
    "and make use of the logsumexp operator to deal with potential numerical instabilities.\n",
    "\n",
    "Lower bounds on log p(x) should be tighter using IW-ELBO"
   ]
  },
  {
   "cell_type": "code",
   "execution_count": 32,
   "id": "wanted-wealth",
   "metadata": {},
   "outputs": [],
   "source": [
    "    # from https://arxiv.org/pdf/1509.00519.pdf\n",
    "    #  and https://justin-tan.github.io/blog/2020/06/20/Intuitive-Importance-Weighted-ELBO-Bounds\n",
    "    def iwelbo(self, x, y, k_samples):\n",
    "\n",
    "        log_iw = None\n",
    "        for _ in range(k_samples):\n",
    "\n",
    "            # Encode - sample from the encoder\n",
    "            #  Latent variables mean,variance: mu_enc, log_var_enc\n",
    "            # y_pred: Sample from q(z|x) by passing data through encoder and reparametrizing\n",
    "            y_pred, mu_enc, log_var_enc = self.forward(x)\n",
    "\n",
    "            # there is not much of a decoder - hence we use the identity below as decoder 'stub'\n",
    "            dec_mu = mu_enc\n",
    "            dec_log_var = log_var_enc\n",
    "\n",
    "            # Sample from p(x|z) by sampling from q(z|x), passing through decoder (y_pred)\n",
    "            # likelihood of observing y given Variational decoder mu and sigma - reconstruction error\n",
    "            log_qzCx = ll_gaussian(y, dec_mu, dec_log_var)\n",
    "\n",
    "            # KL (well, not true for IWAE) - prior probability of y_pred w.r.t. N(0,1)\n",
    "            log_pz = ll_gaussian(y_pred, self.prior_mu, torch.log(torch.tensor(self.prior_sigma)))\n",
    "\n",
    "            # KL (well, not true for IWAE) - probability of y_pred w.r.t the decoded variational likelihood\n",
    "            log_pxCz = ll_gaussian(y_pred, dec_mu, dec_log_var)\n",
    "\n",
    "            i_sum = log_qzCx + log_pz - log_pxCz\n",
    "            if log_iw is None:\n",
    "                log_iw = i_sum\n",
    "            else:\n",
    "                log_iw = torch.cat([log_iw, i_sum], 1)\n",
    "\n",
    "        # loss calculation\n",
    "        log_iw = log_iw.reshape(-1, k_samples)\n",
    "\n",
    "        iwelbo_ = torch.logsumexp(log_iw, dim=1) - np.log(k_samples)\n",
    "\n",
    "        return iwelbo_.mean()\n",
    "\n",
    "VI.iwelbo = iwelbo"
   ]
  },
  {
   "cell_type": "code",
   "execution_count": 33,
   "id": "initial-opportunity",
   "metadata": {},
   "outputs": [
    {
     "data": {
      "text/plain": [
       "Index(['rms_x', 'rms_z', 'rms_y', 'power', 'speed'], dtype='object')"
      ]
     },
     "execution_count": 33,
     "metadata": {},
     "output_type": "execute_result"
    }
   ],
   "source": [
    "df_clean.columns"
   ]
  },
  {
   "cell_type": "code",
   "execution_count": 34,
   "id": "chicken-football",
   "metadata": {},
   "outputs": [],
   "source": [
    "# prepare features and target\n",
    "Feat = 'speed'\n",
    "Targ = 'rms_x'\n",
    "learning_rate = 0.005\n",
    "iwae_samples = 10\n",
    "\n",
    "# pass it through a standard scaler and assess the mean\n",
    "scaler = StandardScaler().fit(df_clean[Feat].values.reshape(-1,1))\n",
    "\n",
    "features = scaler.transform(df_clean[Feat].values.reshape(-1,1))\n",
    "targets = df_clean[Targ].values.reshape(-1,1)\n",
    "\n",
    "xy = np.hstack([features, targets])\n",
    "\n",
    "ind = np.lexsort((xy[:, 1], xy[:, 0]))\n",
    "ind_r = np.argsort(ind)\n",
    "\n",
    "#Input[entity] = xy[ind][:, 0]\n",
    "\n",
    "X = torch.tensor(xy[ind][:, 0].reshape(-1, 1), dtype=torch.float)\n",
    "Y = torch.tensor(xy[ind][:, 1].reshape(-1, 1), dtype=torch.float)\n",
    "\n",
    "# start with a prior that is not too far off\n",
    "adjust_mean = targets.mean()\n",
    "prior_sigma = targets.std()\n",
    "\n",
    "prior_mu = 0\n",
    "#prior_sigma = 1\n",
    "\n",
    "vi_model = VI(scaler, prior_mu=prior_mu, prior_sigma=prior_sigma,\n",
    "                          beta=1, adjust_mean=adjust_mean, version=42)\n",
    "\n",
    "optim = torch.optim.Adam(vi_model.parameters(), lr=learning_rate)"
   ]
  },
  {
   "cell_type": "code",
   "execution_count": 35,
   "id": "regional-chocolate",
   "metadata": {},
   "outputs": [
    {
     "data": {
      "text/plain": [
       "(0.07695650150667988,\n",
       " 0,\n",
       " 0.08749181839936376,\n",
       " array([[0.095934],\n",
       "        [0.093044],\n",
       "        [0.090586],\n",
       "        ...,\n",
       "        [0.018158],\n",
       "        [0.018733],\n",
       "        [0.018419]]))"
      ]
     },
     "execution_count": 35,
     "metadata": {},
     "output_type": "execute_result"
    }
   ],
   "source": [
    "adjust_mean, prior_mu, prior_sigma, targets"
   ]
  },
  {
   "cell_type": "code",
   "execution_count": 36,
   "id": "sexual-albert",
   "metadata": {},
   "outputs": [
    {
     "name": "stdout",
     "output_type": "stream",
     "text": [
      "__main__\n"
     ]
    },
    {
     "name": "stderr",
     "output_type": "stream",
     "text": [
      "Epoch: 0 , IWAE ELBO: 1.108806848526001\n",
      "/home/markus/.local/lib/python3.9/site-packages/torch/autograd/__init__.py:147: UserWarning: CUDA initialization: CUDA unknown error - this may be due to an incorrectly set up environment, e.g. changing env variable CUDA_VISIBLE_DEVICES after program start. Setting the available devices to be zero. (Triggered internally at  ../c10/cuda/CUDAFunctions.cpp:115.)\n",
      "  Variable._execution_engine.run_backward(\n",
      "Epoch: 10 , IWAE ELBO: 0.6702519059181213\n",
      "Epoch: 20 , IWAE ELBO: -0.4394935965538025\n",
      "Epoch: 30 , IWAE ELBO: -0.7401038408279419\n",
      "Epoch: 40 , IWAE ELBO: -0.7798298001289368\n",
      "Epoch: 50 , IWAE ELBO: -0.7949531078338623\n",
      "Epoch: 60 , IWAE ELBO: -0.798385500907898\n",
      "Epoch: 70 , IWAE ELBO: -0.799666166305542\n"
     ]
    }
   ],
   "source": [
    "# Train the model\n",
    "\n",
    "print(__name__)\n",
    "logger = logging.getLogger(__name__)\n",
    "logger.setLevel(logging.DEBUG)\n",
    "loss = 0\n",
    "epochs = 80\n",
    "\n",
    "for epoch in range(epochs):\n",
    "    optim.zero_grad()\n",
    "    #y_pred, mu, log_var = vi_model(X)\n",
    "    #elbo = -vi_model.elbo(y_pred, Y, mu, log_var)\n",
    "    iwelbo = -vi_model.iwelbo(X, Y, iwae_samples)  # default is to try with 10 samples\n",
    "    loss = iwelbo.item()\n",
    "    if epoch % 10 == 0:\n",
    "        logger.warning('Epoch: ' + str(epoch) + ' , IWAE ELBO: ' + str(loss))\n",
    "\n",
    "    #loss.backward()\n",
    "    iwelbo.backward()\n",
    "    optim.step()\n",
    "\n",
    "logger.info('Trained VAE ' + str(vi_model) + '  loss:' + str(loss))"
   ]
  },
  {
   "cell_type": "code",
   "execution_count": 37,
   "id": "direct-index",
   "metadata": {},
   "outputs": [
    {
     "data": {
      "text/plain": [
       "VI(\n",
       "  (q_mu): Sequential(\n",
       "    (0): Linear(in_features=1, out_features=20, bias=True)\n",
       "    (1): ReLU()\n",
       "    (2): Linear(in_features=20, out_features=10, bias=True)\n",
       "    (3): ReLU()\n",
       "    (4): Linear(in_features=10, out_features=1, bias=True)\n",
       "  )\n",
       "  (q_log_var): Sequential(\n",
       "    (0): Linear(in_features=1, out_features=50, bias=True)\n",
       "    (1): ReLU()\n",
       "    (2): Linear(in_features=50, out_features=35, bias=True)\n",
       "    (3): ReLU()\n",
       "    (4): Linear(in_features=35, out_features=10, bias=True)\n",
       "    (5): ReLU()\n",
       "    (6): Linear(in_features=10, out_features=1, bias=True)\n",
       "  )\n",
       ")"
      ]
     },
     "execution_count": 37,
     "metadata": {},
     "output_type": "execute_result"
    }
   ],
   "source": [
    "vi_model"
   ]
  },
  {
   "cell_type": "code",
   "execution_count": 66,
   "id": "damaged-legislature",
   "metadata": {},
   "outputs": [
    {
     "data": {
      "text/plain": [
       "torch.Size([861165, 1])"
      ]
     },
     "execution_count": 66,
     "metadata": {},
     "output_type": "execute_result"
    }
   ],
   "source": [
    "X.shape"
   ]
  },
  {
   "cell_type": "code",
   "execution_count": 95,
   "id": "opposite-murray",
   "metadata": {},
   "outputs": [],
   "source": [
    "import torch.onnx\n",
    "vi_model.eval()\n",
    "\n",
    "x = torch.randn(861165, 1, requires_grad=True)\n",
    "x.shape\n",
    "torch_out = vi_model(x)\n",
    "\n",
    "\n",
    "# Export the model\n",
    "torch.onnx.export(vi_model,                  # model being run\n",
    "                  x,                         # model input (or a tuple for multiple inputs)\n",
    "                  \"vi_model_rms_x\",          # where to save the model (can be a file or file-like object)\n",
    "                  export_params=True,        # store the trained parameter weights inside the model file\n",
    "                  opset_version=10,          # the ONNX version to export the model to\n",
    "                  do_constant_folding=True,  # whether to execute constant folding for optimization\n",
    "                  input_names = ['speed'],   # the model's input names\n",
    "                  output_names = ['rms_x'],  # the model's output names\n",
    "                  dynamic_axes={'speed' : {0 : 'batch_size'},    # variable length axes\n",
    "                                'rms_x' : {0 : 'batch_size'}})"
   ]
  },
  {
   "cell_type": "code",
   "execution_count": 97,
   "id": "gorgeous-measure",
   "metadata": {},
   "outputs": [],
   "source": [
    "import onnx\n",
    "\n",
    "onnx_model = onnx.load(\"vi_model_rms_x\")\n",
    "onnx.checker.check_model(onnx_model)"
   ]
  },
  {
   "cell_type": "code",
   "execution_count": 142,
   "id": "chinese-orbit",
   "metadata": {},
   "outputs": [
    {
     "name": "stdout",
     "output_type": "stream",
     "text": [
      "Exported model has been tested with ONNXRuntime, and the result looks good!\n"
     ]
    }
   ],
   "source": [
    "import onnxruntime\n",
    "\n",
    "ort_session = onnxruntime.InferenceSession(\"vi_model_rms_x\")\n",
    "\n",
    "def to_numpy(tensor):\n",
    "    return tensor.detach().cpu().numpy() if tensor.requires_grad else tensor.cpu().numpy()\n",
    "\n",
    "# compute ONNX Runtime output prediction\n",
    "ort_inputs = {ort_session.get_inputs()[0].name: to_numpy(x)}\n",
    "ort_outs = ort_session.run(None, ort_inputs)\n",
    "\n",
    "# compare ONNX Runtime and PyTorch results\n",
    "#np.testing.assert_allclose(to_numpy(torch_out[0]), ort_outs[0], rtol=1e-03, atol=1e-05)\n",
    "np.testing.assert_allclose(to_numpy(torch_out[1]), ort_outs[1], rtol=1e-03, atol=1e-05)  # mu\n",
    "np.testing.assert_allclose(to_numpy(torch_out[2]), ort_outs[2], rtol=1e-03, atol=1e-05)  # sigma\n",
    "\n",
    "print(\"Exported model has been tested with ONNXRuntime, and the result looks good!\")"
   ]
  },
  {
   "cell_type": "code",
   "execution_count": 143,
   "id": "experimental-dublin",
   "metadata": {},
   "outputs": [],
   "source": [
    "quantile = 0.99\n",
    "#adjust_mean = 0\n",
    "\n",
    "# Evaluate model\n",
    "with torch.no_grad():\n",
    "    mu_and_log_sigma = vi_model(X)\n",
    "    mue = mu_and_log_sigma[1]\n",
    "    sigma = torch.exp(0.5 * mu_and_log_sigma[2]) + 1e-5\n",
    "    mu = sp.stats.norm.ppf(0.5, loc=mue, scale=sigma).reshape(-1,)\n",
    "    q1 = sp.stats.norm.ppf(quantile, loc=mue, scale=sigma).reshape(-1,)\n",
    "\n",
    "predictions = (mu[ind_r] + adjust_mean).reshape(-1,1)\n",
    "pred_stddev = (q1[ind_r]).reshape(-1,1)\n",
    "\n"
   ]
  },
  {
   "cell_type": "code",
   "execution_count": 144,
   "id": "sized-enforcement",
   "metadata": {},
   "outputs": [
    {
     "data": {
      "text/plain": [
       "(tensor([[0.0188],\n",
       "         [0.0188],\n",
       "         [0.0188],\n",
       "         ...,\n",
       "         [0.1509],\n",
       "         [0.1509],\n",
       "         [0.1509]]),\n",
       " tensor([[0.0510],\n",
       "         [0.0510],\n",
       "         [0.0510],\n",
       "         ...,\n",
       "         [0.0546],\n",
       "         [0.0546],\n",
       "         [0.0546]]))"
      ]
     },
     "execution_count": 144,
     "metadata": {},
     "output_type": "execute_result"
    }
   ],
   "source": [
    "mue, sigma"
   ]
  },
  {
   "cell_type": "code",
   "execution_count": 145,
   "id": "amended-links",
   "metadata": {
    "scrolled": false
   },
   "outputs": [
    {
     "data": {
      "text/plain": [
       "Text(0.5, 1.0, 'pump 04714B601096')"
      ]
     },
     "execution_count": 145,
     "metadata": {},
     "output_type": "execute_result"
    },
    {
     "data": {
      "image/png": "[encoded data removed]",
      "text/plain": [
       "<Figure size 720x576 with 1 Axes>"
      ]
     },
     "metadata": {
      "needs_background": "light"
     },
     "output_type": "display_data"
    }
   ],
   "source": [
    "rmsstr = 'rms_x'\n",
    "predstr = 'predicted_rms_x'\n",
    "preddstr = 'pred_dev_rms_x'\n",
    "anostr = 'AnomalyX'\n",
    "\n",
    "df_i = df_clean.copy()\n",
    "df_i[predstr] = predictions\n",
    "df_i[preddstr] = pred_stddev\n",
    "\n",
    "# X-coordinate\n",
    "arr1 = np.where(df_i[rmsstr] > df_i[predstr] + df_i[preddstr], df_i[rmsstr], 0) + \\\n",
    "    np.where(df_i[rmsstr] < df_i[predstr] - df_i[preddstr], df_i[rmsstr], 0)\n",
    "arr1[arr1 == 0] = np.nan\n",
    "df_i[anostr] = arr1\n",
    "\n",
    "fig, ax = plt.subplots(1, 1, figsize=(10, 8), squeeze=False)\n",
    "\n",
    "ax[0,0].scatter(df_i['speed'], df_i[rmsstr])\n",
    "ax[0,0].scatter(df_i['speed'], df_i[predstr], color='green')\n",
    "ax[0,0].scatter(df_i['speed'], df_i[predstr] + df_i[preddstr], color='orange', lw=0.1, label='limit - p<0.01')\n",
    "#ax[0,0].scatter(df_i['speed'], df_i[predstr] + df_i[preddstr], color='orange', lw=0.1)\n",
    "ax[0,0].scatter(df_i['speed'], df_i[anostr], color='red', lw=2)\n",
    "ax[0,0].set_xlabel('Speed')\n",
    "ax[0,0].set_ylabel('Vibration - X')\n",
    "ax[0,0].legend()\n",
    "ax[0,0].set_title('pump ' + df_i.index.levels[0].values[0])"
   ]
  },
  {
   "cell_type": "markdown",
   "id": "french-seventh",
   "metadata": {},
   "source": [
    "### Remove false positives at low speed\n",
    "\n",
    "Speed and Vibration are delivered by two independent sensors, and vibration tends to subside a bit later if the pump is switched off. We simply ignore outlier vibrations at low speed < 800."
   ]
  },
  {
   "cell_type": "code",
   "execution_count": 41,
   "id": "continued-luxury",
   "metadata": {},
   "outputs": [
    {
     "data": {
      "text/plain": [
       "(478148, 1)"
      ]
     },
     "execution_count": 41,
     "metadata": {},
     "output_type": "execute_result"
    }
   ],
   "source": [
    "z = np.array(np.where(df_i['speed'].values > 200)).T\n",
    "z.shape"
   ]
  },
  {
   "cell_type": "code",
   "execution_count": 42,
   "id": "announced-feature",
   "metadata": {},
   "outputs": [
    {
     "data": {
      "text/plain": [
       "(861165,)"
      ]
     },
     "execution_count": 42,
     "metadata": {},
     "output_type": "execute_result"
    }
   ],
   "source": [
    "arr1.shape"
   ]
  },
  {
   "cell_type": "code",
   "execution_count": 43,
   "id": "amino-reaction",
   "metadata": {},
   "outputs": [
    {
     "data": {
      "text/plain": [
       "Text(0, 0.5, 'unit less:\\n Vibration rms_x and Power')"
      ]
     },
     "execution_count": 43,
     "metadata": {},
     "output_type": "execute_result"
    },
    {
     "data": {
      "image/png": "[encoded data removed]",
      "text/plain": [
       "<Figure size 1440x720 with 1 Axes>"
      ]
     },
     "metadata": {
      "needs_background": "light"
     },
     "output_type": "display_data"
    }
   ],
   "source": [
    "df_i = df_clean.reset_index().set_index('deviceid')\n",
    "\n",
    "df_i[predstr] = predictions\n",
    "df_i[preddstr] = pred_stddev\n",
    "\n",
    "# vibration is stronger than expected and speed higher than 800\n",
    "arr1 = (np.where(df_i[rmsstr] > df_i[predstr] + df_i[preddstr], df_i[rmsstr], 0) + \\\n",
    "    np.where(df_i[rmsstr] < df_i[predstr] - df_i[preddstr], df_i[rmsstr], 0)) * \\\n",
    "    (df_i['speed'].values > 800)\n",
    "arr1[arr1 == 0] = np.nan\n",
    "df_i[anostr] = arr1\n",
    "\n",
    "fig, ax = plt.subplots(1, 1, figsize=(20, 10), squeeze=False)\n",
    "i = 0\n",
    "rg = range(df_i['speed'].values.size)\n",
    "ax[i,0].plot(rg, df_i['rms_x'], lw=0.4, color='green', label='vibration')\n",
    "ax[i,0].scatter(rg,df_i[anostr], lw=5, color='red', zorder=5)\n",
    "\n",
    "ax[i,0].plot(rg, predictions, lw=0.4, color='blue', zorder=4, label='mean')\n",
    "ax[i,0].fill_between(rg, (predictions-pred_stddev).flatten(),\n",
    "                     (predictions + pred_stddev).flatten(),\n",
    "                     lw=0.04, color='orange', zorder=2, alpha=0.2, label='stddev')\n",
    "\n",
    "ax[i,0].legend()\n",
    "ax[i,0].set_title('04714B603408')\n",
    "\n",
    "ax[i,0].set_xlabel('Time')\n",
    "ax[i,0].set_ylabel('unit less:\\n Vibration rms_x and Power')"
   ]
  },
  {
   "cell_type": "code",
   "execution_count": null,
   "id": "premier-honduras",
   "metadata": {},
   "outputs": [],
   "source": []
  },
  {
   "cell_type": "code",
   "execution_count": null,
   "id": "dominican-penetration",
   "metadata": {},
   "outputs": [],
   "source": []
  }
 ],
 "metadata": {
  "kernelspec": {
   "display_name": "Python 3",
   "language": "python",
   "name": "python3"
  },
  "language_info": {
   "codemirror_mode": {
    "name": "ipython",
    "version": 3
   },
   "file_extension": ".py",
   "mimetype": "text/x-python",
   "name": "python",
   "nbconvert_exporter": "python",
   "pygments_lexer": "ipython3",
   "version": "3.9.7"
  }
 },
 "nbformat": 4,
 "nbformat_minor": 5
}

{
 "cells": [
  {
   "cell_type": "code",
   "execution_count": 1,
   "metadata": {},
   "outputs": [
    {
     "name": "stderr",
     "output_type": "stream",
     "text": [
      "Warning: confluent_kafka is not installed. Publish to MessageHub not supported.\n",
      "/home/markus/.local/lib/python3.8/site-packages/iotfunctions/bif.py:1884: UserWarning: IoTCalcSettings is deprecated. Use entity type constants instead of a metadata provider to set entity type properties\n",
      "  warnings.warn(('IoTCalcSettings is deprecated. Use entity type constants'\n",
      "Using TensorFlow backend.\n"
     ]
    }
   ],
   "source": [
    "# Real life data\n",
    "\n",
    "%load_ext autoreload\n",
    "import logging\n",
    "import threading\n",
    "import itertools\n",
    "import warnings\n",
    "import pandas as pd  \n",
    "import numpy as np  \n",
    "import scipy as sp\n",
    "import matplotlib.pyplot as plt\n",
    "from matplotlib import cm\n",
    "from mpl_toolkits.mplot3d import axes3d\n",
    "import seaborn as seabornInstance\n",
    "from sqlalchemy import Column, Integer, String, Float, DateTime, Boolean, func\n",
    "from iotfunctions import base\n",
    "from iotfunctions import bif\n",
    "from iotfunctions import entity\n",
    "from iotfunctions import metadata\n",
    "from iotfunctions.metadata import EntityType\n",
    "from iotfunctions.db import Database\n",
    "from iotfunctions.dbtables import FileModelStore\n",
    "from iotfunctions.enginelog import EngineLogging\n",
    "from iotfunctions import estimator\n",
    "from iotfunctions.ui import (UISingle, UIMultiItem, UIFunctionOutSingle,\n",
    "                 UISingleItem, UIFunctionOutMulti, UIMulti, UIExpression,\n",
    "                 UIText, UIStatusFlag, UIParameters)\n",
    "from mmfunctions.anomaly import (SaliencybasedGeneralizedAnomalyScore, SpectralAnomalyScore,\n",
    "                 FFTbasedGeneralizedAnomalyScore, KMeansAnomalyScore)\n",
    "from mmfunctions.telemanom import (TelemanomConfig, TelemanomModel, TelemanomEstimator, LSTMRegressor)\n",
    "import datetime as dt\n",
    "from sklearn.model_selection import train_test_split \n",
    "from sklearn.linear_model import LinearRegression\n",
    "from sklearn.preprocessing import RobustScaler\n",
    "from sklearn import metrics\n",
    "from sklearn.neighbors import KernelDensity\n",
    "from sklearn.metrics import roc_curve, auc, roc_auc_score, r2_score\n",
    "\n",
    "import scipy as sp\n",
    "import scipy.fftpack\n",
    "from scipy.stats import wasserstein_distance, energy_distance, gaussian_kde\n",
    "import skimage as ski\n",
    "\n",
    "from skimage import util as skiutil # for nifty windowing\n",
    "%matplotlib inline\n",
    "from pandas.plotting import register_matplotlib_converters\n",
    "register_matplotlib_converters()\n",
    "\n",
    "import matplotlib.cbook\n",
    "warnings.filterwarnings(\"ignore\",category=matplotlib.cbook.mplDeprecation)\n",
    "\n",
    "import tspy\n",
    "\n",
    "EngineLogging.configure_console_logging(logging.INFO)"
   ]
  },
  {
   "cell_type": "code",
   "execution_count": 2,
   "metadata": {},
   "outputs": [],
   "source": [
    "# from https://stackoverflow.com/questions/43297853/modifying-timestamps-in-pandas-to-make-index-unique/43298598\n",
    "def deal_with_duplicate_ts(df):\n",
    "    # get duplicated values as float and replace 0 with NaN\n",
    "    values = df.index.duplicated(keep=False).astype(float)\n",
    "    values[values==0] = np.NaN\n",
    "\n",
    "    missings = np.isnan(values)\n",
    "    cumsum = np.cumsum(~missings)\n",
    "    diff = np.diff(np.concatenate(([0.], cumsum[missings])))\n",
    "    values[missings] = -diff\n",
    "\n",
    "    # print result\n",
    "    df.index = df.index + np.cumsum(values).astype(np.timedelta64)\n",
    "    return df"
   ]
  },
  {
   "cell_type": "code",
   "execution_count": 3,
   "metadata": {},
   "outputs": [
    {
     "data": {
      "text/plain": [
       "10540"
      ]
     },
     "execution_count": 3,
     "metadata": {},
     "output_type": "execute_result"
    }
   ],
   "source": [
    "df_input_raw = pd.read_csv('./FloatIOPointInformationCakebread128.csv', index_col=False, parse_dates=['timestamp'])\n",
    "df_input_raw['temperature'] = df_input_raw['floatvalue']\n",
    "\n",
    "df_input = df_input_raw[['deviceid','timestamp','temperature']]\n",
    "\n",
    "df_input = df_input.set_index(['timestamp'])\n",
    "df_input = deal_with_duplicate_ts(df_input)\n",
    "\n",
    "df_input = df_input.reset_index().set_index(['deviceid','timestamp'])\n",
    "\n",
    "temperature = df_input['temperature'].values.reshape(-1,1)\n",
    "\n",
    "temperature_scale = RobustScaler().fit(temperature).transform(temperature)\n",
    "\n",
    "\n",
    "df_input['temperature'] = temperature_scale\n",
    "df_input.size"
   ]
  },
  {
   "cell_type": "markdown",
   "metadata": {},
   "source": [
    "#### Change point detection with tspy\n",
    "aka timeseries-insights\n",
    "\n",
    "Actually I never finished because it requires running a python to java bridge and I'm too lazy to start the docker container ... \n",
    "so no results here."
   ]
  },
  {
   "cell_type": "code",
   "execution_count": 4,
   "metadata": {},
   "outputs": [
    {
     "ename": "AttributeError",
     "evalue": "'function' object has no attribute 'df'",
     "output_type": "error",
     "traceback": [
      "\u001b[0;31m---------------------------------------------------------------------------\u001b[0m",
      "\u001b[0;31mAttributeError\u001b[0m                            Traceback (most recent call last)",
      "\u001b[0;32m<ipython-input-4-d89ff0efacd1>\u001b[0m in \u001b[0;36m<module>\u001b[0;34m\u001b[0m\n\u001b[1;32m      2\u001b[0m \u001b[0;31m# tspy doesn't like pandas indices\u001b[0m\u001b[0;34m\u001b[0m\u001b[0;34m\u001b[0m\u001b[0;34m\u001b[0m\u001b[0m\n\u001b[1;32m      3\u001b[0m \u001b[0;31m#\u001b[0m\u001b[0;34m\u001b[0m\u001b[0;34m\u001b[0m\u001b[0;34m\u001b[0m\u001b[0m\n\u001b[0;32m----> 4\u001b[0;31m \u001b[0mts\u001b[0m \u001b[0;34m=\u001b[0m \u001b[0mtspy\u001b[0m\u001b[0;34m.\u001b[0m\u001b[0mtime_series\u001b[0m\u001b[0;34m.\u001b[0m\u001b[0mdf\u001b[0m\u001b[0;34m(\u001b[0m\u001b[0mdf_input\u001b[0m\u001b[0;34m.\u001b[0m\u001b[0mreset_index\u001b[0m\u001b[0;34m(\u001b[0m\u001b[0;34m)\u001b[0m\u001b[0;34m,\u001b[0m \u001b[0;34m\"timestamp\"\u001b[0m\u001b[0;34m,\u001b[0m \u001b[0;34m\"temperature\"\u001b[0m\u001b[0;34m)\u001b[0m\u001b[0;34m\u001b[0m\u001b[0;34m\u001b[0m\u001b[0m\n\u001b[0m\u001b[1;32m      5\u001b[0m \u001b[0;31m#print(ts)\u001b[0m\u001b[0;34m\u001b[0m\u001b[0;34m\u001b[0m\u001b[0;34m\u001b[0m\u001b[0m\n",
      "\u001b[0;31mAttributeError\u001b[0m: 'function' object has no attribute 'df'"
     ]
    }
   ],
   "source": [
    "#\n",
    "# tspy doesn't like pandas indices\n",
    "#\n",
    "ts = tspy.time_series.df(df_input.reset_index(), \"timestamp\", \"temperature\")\n",
    "#print(ts)"
   ]
  },
  {
   "cell_type": "markdown",
   "metadata": {},
   "source": [
    "#### Change point detection the traditional way\n",
    "\n",
    "Using RulSIF (Relative unconstrained Least-Squares Importance Fitting).\n",
    "This (original) method approximates the true density ratio with a mixed Gaussian, see https://arxiv.org/pdf/2001.06386v1.pdf\n",
    "for other approaches to RulSIF."
   ]
  },
  {
   "cell_type": "code",
   "execution_count": 5,
   "metadata": {},
   "outputs": [],
   "source": [
    "from densratio import densratio\n",
    "\n",
    "# temperature reading from 00:36:00 to 09:24:00\n",
    "x = df_input['temperature'][0:999].to_numpy()\n",
    "\n",
    "# temperature reading from 00:09:24 to 17:33:00\n",
    "y = df_input['temperature'][1000:1999].to_numpy()\n",
    "\n",
    "result = densratio(x, y, alpha=0, verbose=False)\n"
   ]
  },
  {
   "cell_type": "code",
   "execution_count": 6,
   "metadata": {},
   "outputs": [
    {
     "name": "stdout",
     "output_type": "stream",
     "text": [
      "Method: RuLSIF\n",
      "\n",
      "Alpha: 0\n",
      "\n",
      "Kernel Information:\n",
      "  Kernel type: Gaussian\n",
      "  Number of kernels: 100\n",
      "  Bandwidth(sigma): 0.1\n",
      "  Centers: matrix([[-0.2],..\n",
      "\n",
      "Kernel Weights (theta):\n",
      "  array([0.04152465, 0.20019171, 0.14562792, 0.04784257, 0.06603218,..\n",
      "\n",
      "Regularization Parameter (lambda): 0.01\n",
      "\n",
      "Alpha-Relative PE-Divergence: 0.07192498734172847\n",
      "\n",
      "Alpha-Relative KL-Divergence: -0.09333712993924263\n",
      "\n",
      "Function to Estimate Density Ratio:\n",
      "  compute_density_ratio(x)\n",
      "  \n"
     ]
    }
   ],
   "source": [
    "print(result)"
   ]
  },
  {
   "cell_type": "markdown",
   "metadata": {},
   "source": [
    "Hmm, a strongly **negative** KL divergence. I don't want to hunt this bug down today\n",
    ".. looking for another library.\n",
    "<br>\n",
    "\n",
    "#### Change point detection with PELT\n",
    "\n",
    "See here for an concise intro \n",
    "https://techrando.com/2019/08/14/a-brief-introduction-to-change-point-detection-using-python/\n",
    "\n",
    "(includes a reference to the original paper)\n",
    "\n"
   ]
  },
  {
   "cell_type": "code",
   "execution_count": 7,
   "metadata": {},
   "outputs": [],
   "source": [
    "import ruptures as rpt\n",
    "\n",
    "y = df_input['temperature'].to_numpy()\n",
    "\n",
    "model = rpt.Pelt(model='rbf').fit(y)\n"
   ]
  },
  {
   "cell_type": "code",
   "execution_count": 8,
   "metadata": {},
   "outputs": [
    {
     "data": {
      "image/png": "[encoded data removed]",
      "text/plain": [
       "<Figure size 864x360 with 1 Axes>"
      ]
     },
     "metadata": {
      "needs_background": "light"
     },
     "output_type": "display_data"
    }
   ],
   "source": [
    "results = model.predict(pen=10)\n",
    "\n",
    "rpt.display(y, results, figsize=(12, 5))\n",
    "plt.title('Change Point Detection: Pelt Search Method')\n",
    "plt.show() "
   ]
  },
  {
   "cell_type": "code",
   "execution_count": null,
   "metadata": {},
   "outputs": [],
   "source": [
    " "
   ]
  }
 ],
 "metadata": {
  "kernelspec": {
   "display_name": "Python 3",
   "language": "python",
   "name": "python3"
  },
  "language_info": {
   "codemirror_mode": {
    "name": "ipython",
    "version": 3
   },
   "file_extension": ".py",
   "mimetype": "text/x-python",
   "name": "python",
   "nbconvert_exporter": "python",
   "pygments_lexer": "ipython3",
   "version": "3.8.6"
  }
 },
 "nbformat": 4,
 "nbformat_minor": 4
}

{
 "cells": [
  {
   "cell_type": "code",
   "execution_count": 1,
   "id": "503f2bc3",
   "metadata": {},
   "outputs": [
    {
     "name": "stderr",
     "output_type": "stream",
     "text": [
      "Warning: confluent_kafka is not installed. Publish to MessageHub not supported.\n"
     ]
    }
   ],
   "source": [
    "# Real life data\n",
    "\n",
    "import logging\n",
    "import threading\n",
    "import json\n",
    "import itertools\n",
    "import pandas as pd\n",
    "import numpy as np\n",
    "import matplotlib\n",
    "import matplotlib.pyplot as plt\n",
    "import ibm_db\n",
    "import shap\n",
    "\n",
    "from ydata_profiling import ProfileReport\n",
    "import matplotlib.pyplot as plt\n",
    "from matplotlib import cm\n",
    "from mpl_toolkits.mplot3d import axes3d\n",
    "import seaborn as seabornInstance\n",
    "\n",
    "from sqlalchemy import Column, Integer, String, Float, DateTime, Boolean, func\n",
    "from iotfunctions import base\n",
    "from iotfunctions import bif\n",
    "from iotfunctions.db import Database\n",
    "from iotfunctions import entity\n",
    "from iotfunctions import metadata\n",
    "from iotfunctions.metadata import EntityType\n",
    "from iotfunctions.enginelog import EngineLogging\n",
    "from iotfunctions.dbtables import FileModelStore\n",
    "from iotfunctions import estimator\n",
    "from iotfunctions.ui import (UISingle, UIMultiItem, UIFunctionOutSingle,\n",
    "                 UISingleItem, UIFunctionOutMulti, UIMulti, UIExpression,\n",
    "                 UIText, UIStatusFlag, UIParameters)\n",
    "from iotfunctions.dbtables import FileModelStore, DBModelStore\n",
    "from mmfunctions.anomaly import (SaliencybasedGeneralizedAnomalyScore, SpectralAnomalyScore,\n",
    "                 FFTbasedGeneralizedAnomalyScore, KMeansAnomalyScore, SimpleRegressor,\n",
    "                                 RANSACRegressor, BayesRidgeRegressor)\n",
    "from mmfunctions.bif import CumulativeCount\n",
    "from mmfunctions.customer import ONNXRegressor\n",
    "from iotfunctions.anomaly import GBMRegressor\n",
    "import datetime as dt\n",
    "from sklearn.model_selection import train_test_split \n",
    "from sklearn.linear_model import LinearRegression\n",
    "from sklearn.preprocessing import StandardScaler\n",
    "from sklearn.covariance import MinCovDet\n",
    "from sklearn import metrics\n",
    "import scipy as sp\n",
    "import scipy.fftpack\n",
    "#import skimage as ski  \n",
    "#from skimage import util as skiutil # for nifty windowing\n",
    "%matplotlib inline\n",
    "from pandas.plotting import register_matplotlib_converters\n",
    "register_matplotlib_converters()\n",
    "\n",
    "EngineLogging.configure_console_logging(logging.INFO)"
   ]
  },
  {
   "cell_type": "markdown",
   "id": "a5bab4d5",
   "metadata": {},
   "source": [
    "### Preparation\n",
    "\n",
    "**First:** Set up the database object from the pipeline v1 functions SDK"
   ]
  },
  {
   "cell_type": "code",
   "execution_count": 18,
   "id": "d0b26a0c",
   "metadata": {},
   "outputs": [
    {
     "name": "stdout",
     "output_type": "stream",
     "text": [
      "2023-04-02T11:19:49.440 INFO iotfunctions.dbtables.__init__ Init FileModelStore with path: ./\n",
      "###_IBM_###\n"
     ]
    }
   ],
   "source": [
    "# dummy db handler\n",
    "db_schema=None\n",
    "class DatabaseDummy:\n",
    "    tenant_id = '###_IBM_###'\n",
    "    db_type = 'db2'\n",
    "    model_store = FileModelStore('./')\n",
    "    def _init(self):\n",
    "        return\n",
    "\n",
    "db = DatabaseDummy()\n",
    "        \n",
    "print (db.tenant_id)"
   ]
  },
  {
   "cell_type": "markdown",
   "id": "7b4894e2",
   "metadata": {},
   "source": [
    "###  Loading training data\n",
    "\n",
    "We are using synthetic data here."
   ]
  },
  {
   "cell_type": "code",
   "execution_count": 3,
   "id": "96710e7e",
   "metadata": {},
   "outputs": [],
   "source": [
    "df_input_raw = pd.read_csv('./data/ONNXRegressorData.csv',\n",
    "                           parse_dates=['timestamp']) \n",
    "\n",
    "df_input = df_input_raw.set_index(['id','timestamp'])"
   ]
  },
  {
   "cell_type": "markdown",
   "id": "1d10fbc9",
   "metadata": {},
   "source": [
    "### Set up training \n",
    "\n",
    "We make use of a pipeline v1 custom function.\n",
    "\n",
    "The Pipeline v1 SDK implements support for training regressors with automatic split of training and test data,\n",
    "data cleaning and optional scaling. Regressors trained that way are compatible to the way pipeline v1 expects pandas data frame (with a multi-index of device id and timestamp) \n",
    "\n",
    "\n",
    "Code (without imports and logging) from https://github.com/sedgewickmm18/mmfunctions\n",
    "\n",
    "```\n",
    "class RANSACRegressor(BaseEstimatorFunction):\n",
    "    \"\"\"\n",
    "    Robust Linear Regression\n",
    "    \"\"\"\n",
    "    eval_metric = staticmethod(metrics.r2_score)\n",
    "\n",
    "    # class variables\n",
    "    train_if_no_model = True\n",
    "\n",
    "    def set_estimators(self):\n",
    "        # set up RANSAC based on BayesianRidge\n",
    "        BRidge = linear_model.BayesianRidge(compute_score=True)\n",
    "        params = {'estimator': [BRidge], 'random_state':[42]}\n",
    "        self.estimators['ransac'] = (linear_model.RANSACRegressor, params)\n",
    "\n",
    "    # initialize the function - done at the beginning of each pipeline run\n",
    "    def __init__(self, features, targets, predictions=None, deviations=None, outliers=None):\n",
    "        super().__init__(features=features, targets=targets, predictions=predictions, stddev=False, keep_current_models=True)\n",
    "\n",
    "        self.outliers = outliers\n",
    "        self.pred_stddev2 = ['stddev_%s' % x for x in self.targets]\n",
    "\n",
    "        if deviations is not None:\n",
    "            self.pred_stddev2 = deviations\n",
    "\n",
    "        self.experiments_per_execution = 1\n",
    "        self.auto_train = True\n",
    "        self.correlation_threshold = 0\n",
    "        self.stop_auto_improve_at = -2\n",
    "        self.whoami = 'RANSACRegressor'\n",
    "\n",
    "\n",
    "    def execute(self, df):\n",
    "        df_copy = df.copy()\n",
    "        # Create missing columns before doing group-apply\n",
    "        missing_cols = [x for x in self.predictions + self.pred_stddev2 if x not in df_copy.columns]\n",
    "        for m in missing_cols:\n",
    "            df_copy[m] = None\n",
    "\n",
    "        # check data type\n",
    "        #if df[self.input_item].dtype != np.float64:\n",
    "        for feature in self.features:\n",
    "            if not pd.api.types.is_numeric_dtype(df_copy[feature].dtype):\n",
    "                logger.error('Regression on non-numeric feature:' + str(feature))\n",
    "                return (df_copy)\n",
    "\n",
    "        # do it for each device separately in _calc()\n",
    "        group_base = [pd.Grouper(axis=0, level=0)]\n",
    "        df_copy = df_copy.groupby(group_base).apply(self._calc)\n",
    "\n",
    "        return df_copy\n",
    "        \n",
    "        \n",
    "    def _calc(self, df):\n",
    "        entity = df.index[0][0]\n",
    "\n",
    "        # obtain handle to the database object for retrieving the model binary\n",
    "        db = self._entity_type.db\n",
    "        if db is None:\n",
    "            db = self._get_dms().db\n",
    "\n",
    "        try:\n",
    "            # delegate training and retrieval of the model to the super class\n",
    "            # the specific sklearn pipeline is determined by calling set_estimators()\n",
    "            dfe = super()._execute(df, entity)\n",
    "\n",
    "            # get rid of NaNs\n",
    "            dfe.fillna(0, inplace=True)\n",
    "\n",
    "            # get the name of the model binary (to get the outlier mask)\n",
    "            model_name = self.get_model_name(self.features, self.targets[0], suffix=entity)\n",
    "\n",
    "            df[self.predictions] = dfe[self.predictions]\n",
    "            mean, stddev = self.active_models[model_name][0].estimator.estimator_.predict(df[self.features], return_std=True)\n",
    "            df[self.pred_stddev2] = stddev.values.reshape(-1, 1)\n",
    "            \n",
    "            # retrieve the outlier mask and shape it properly\n",
    "            outlier_index = np.logical_not(self.active_models[model_name][0].estimator.inlier_mask_)\n",
    "            full_index = np.arange(stddev.shape[0])\n",
    "            outliers = np.isin(full_index, outlier_index).astype(int)\n",
    "            df[self.outliers] = outliers.reshape(-1, 1)\n",
    "\n",
    "        except Exception as e:\n",
    "            df[self.predictions] = 0\n",
    "            df[self.pred_stddev2] = 0\n",
    "            df[self.outliers] = 0\n",
    "\n",
    "        return df\n",
    "\n",
    "\n",
    "    # let the UI know about the parameters\n",
    "    @classmethod\n",
    "    def build_ui(cls):\n",
    "        # define arguments that behave as function inputs\n",
    "        inputs = []\n",
    "        inputs.append(UIMultiItem(name='features', datatype=float, required=True, output_item='deviations',\n",
    "                                  is_output_datatype_derived=True))\n",
    "        inputs.append(UIMultiItem(name='targets', datatype=float, required=True, output_item='predictions',\n",
    "                                  is_output_datatype_derived=True))\n",
    "\n",
    "        # define arguments that behave as function outputs\n",
    "        outputs = []\n",
    "        inputs.append(UISingleItem(name='outliers', datatype=int, required=True))\n",
    "        return inputs, outputs\n",
    "\n"
   ]
  },
  {
   "cell_type": "code",
   "execution_count": 24,
   "id": "3890f8cc",
   "metadata": {},
   "outputs": [
    {
     "name": "stdout",
     "output_type": "stream",
     "text": [
      "2023-04-02T11:27:33.359 DEBUG iotfunctions.enginelog.configure_console_logging Console logging has been configured. Level = 10\n",
      "2023-04-02T11:27:33.364 DEBUG iotfunctions.metadata.__init__ Initializing new entity type using iotfunctions 8.9.0\n",
      "2023-04-02T11:27:33.366 DEBUG iotfunctions.util.__init__ Starting trace\n",
      "2023-04-02T11:27:33.368 DEBUG iotfunctions.util.__init__ Trace name: auto_trace_test_entity_for_RANSACRegressor_20230402092733\n",
      "2023-04-02T11:27:33.370 DEBUG iotfunctions.util.__init__ auto_save None\n",
      "2023-04-02T11:27:33.372 DEBUG iotfunctions.util.categorize_args categorizing arguments\n",
      "2023-04-02T11:27:33.373 INFO iotfunctions.metadata.__init__ The entity type is not connected to a metric input table.\n",
      "2023-04-02T11:27:33.374 DEBUG iotfunctions.metadata.__init__ Initialized entity type \n",
      "LocalEntityType:TEST_ENTITY_FOR_RANSACREGRESSOR\n",
      "Functions:\n",
      "Granularities:\n",
      "No schedules metadata\n"
     ]
    }
   ],
   "source": [
    "from mmfunctions.anomaly import RANSACRegressor\n",
    "\n",
    "# set up a mini Monitor pipeline\n",
    "EngineLogging.configure_console_logging(logging.DEBUG)\n",
    "\n",
    "jobsettings = { 'db': db, \n",
    "               '_db_schema': 'public', 'save_trace_to_file' : True}\n",
    "\n",
    "# instantiate the regressor as pipeline v1 function\n",
    "test3 = RANSACRegressor(['IR','IB'],targets=['IY'],outliers='outliers')\n",
    "\n",
    "# instantiate an entity type object\n",
    "et3 = test3._build_entity_type(columns = [Column('GunPressure_Kmeans',Float())], **jobsettings)\n",
    "et3._timestamp = 'timestamp'\n",
    "\n",
    "# name it as 'IOT_' + entity name + '_' + entity_id\n",
    "et3.name = 'IOT_ZROBOT_M3810_626542'\n",
    "\n",
    "# associate regressor function with entity type\n",
    "test3._entity_type = et3\n",
    "\n",
    "# ditch old models if there are any \n",
    "test3.auto_train = True\n",
    "test3.delete_existing_models = True\n",
    "\n",
    "EngineLogging.configure_console_logging(logging.INFO)"
   ]
  },
  {
   "cell_type": "code",
   "execution_count": 25,
   "id": "44703278",
   "metadata": {
    "scrolled": false
   },
   "outputs": [
    {
     "name": "stdout",
     "output_type": "stream",
     "text": [
      "2023-04-02T11:27:47.635 ERROR iotfunctions.base.get_bucket_name Could not find credentials for entity type. COS read/write is disabled \n",
      "2023-04-02T11:27:47.635 INFO iotfunctions.base.delete_models Model names to delete: ['model.IOT_ZROBOT_M3810_626542.RANSACRegressor.67b537e9ea5557ae8ececb36588ec84baa1e54b5b24c9d2ce7c349d55aae5ea3:IY.N438446']\n",
      "2023-04-02T11:27:47.636 INFO iotfunctions.dbtables.delete_model Model model.IOT_ZROBOT_M3810_626542.RANSACRegressor.67b537e9ea5557ae8ececb36588ec84baa1e54b5b24c9d2ce7c349d55aae5ea3:IY.N438446 has been deleted from filesystem\n",
      "2023-04-02T11:27:47.637 INFO iotfunctions.base.get_models_for_training predicting target IY\n",
      "2023-04-02T11:27:47.637 INFO iotfunctions.dbtables.retrieve_model Model model.IOT_ZROBOT_M3810_626542.RANSACRegressor.67b537e9ea5557ae8ececb36588ec84baa1e54b5b24c9d2ce7c349d55aae5ea3:IY.N438446 does not exist in filesystem\n",
      "2023-04-02T11:27:47.638 INFO iotfunctions.base.get_models_for_training load model None\n",
      "2023-04-02T11:27:47.638 INFO iotfunctions.base.get_models_for_training training required: True  results: Training required because there is no existing model\n",
      "2023-04-02T11:27:47.641 WARNING iotfunctions.pipeline.write Error while writing unmatched members to dimension. 'DatabaseDummy' object has no attribute 'get_table'\n",
      "2023-04-02T11:27:47.643 INFO iotfunctions.base.execute_train_test_split Split data - training set (152, 11)  test set (39, 11)\n",
      "2023-04-02T11:27:47.643 INFO iotfunctions.base._execute Prepare to train model {\n",
      " \"name\": \"model.IOT_ZROBOT_M3810_626542.RANSACRegressor.67b537e9ea5557ae8ececb36588ec84baa1e54b5b24c9d2ce7c349d55aae5ea3:IY.N438446\",\n",
      " \"target\": \"IY\",\n",
      " \"features\": [\n",
      "  \"IR\",\n",
      "  \"IB\"\n",
      " ],\n",
      " \"estimator_name\": null,\n",
      " \"eval_metric_name\": \"r2_score\",\n",
      " \"eval_metric_train\": null,\n",
      " \"eval_metric_test\": null,\n",
      " \"trained_date\": null,\n",
      " \"expiry_date\": null,\n",
      " \"col_name\": \"predicted_IY\",\n",
      " \"col_name_stddev\": null\n",
      "}\n",
      "2023-04-02T11:27:47.644 INFO mmfunctions.anomaly.set_estimators RANSAC Regressor initialized\n",
      "make_estimators  <class 'sklearn.linear_model._ransac.RANSACRegressor'> {'estimator': [BayesianRidge(compute_score=True)], 'random_state': [42]}\n",
      "3\n"
     ]
    },
    {
     "name": "stderr",
     "output_type": "stream",
     "text": [
      "The total space of parameters 1 is smaller than n_iter=3. Running 1 iterations. For exhaustive searches, use GridSearchCV.\n"
     ]
    },
    {
     "name": "stdout",
     "output_type": "stream",
     "text": [
      "2023-04-02T11:27:47.933 INFO iotfunctions.base.find_best_model Trained model no: 0\n",
      "2023-04-02T11:27:47.935 INFO iotfunctions.base.find_best_model Trained model no: 0 score:-0.02195064907506361\n",
      "2023-04-02T11:27:47.937 INFO iotfunctions.metadata.test evaluated model model.IOT_ZROBOT_M3810_626542.RANSACRegressor.67b537e9ea5557ae8ececb36588ec84baa1e54b5b24c9d2ce7c349d55aae5ea3:IY.N438446 with evaluation metric value -0.02395792906262506\n",
      "2023-04-02T11:27:47.940 INFO iotfunctions.base._execute Finished training model model.IOT_ZROBOT_M3810_626542.RANSACRegressor.67b537e9ea5557ae8ececb36588ec84baa1e54b5b24c9d2ce7c349d55aae5ea3:IY.N438446\n",
      "2023-04-02T11:27:47.941 INFO iotfunctions.dbtables.retrieve_model Model model.IOT_ZROBOT_M3810_626542.RANSACRegressor.67b537e9ea5557ae8ececb36588ec84baa1e54b5b24c9d2ce7c349d55aae5ea3:IY.N438446 of size 2415 bytes has been retrieved from filesystem\n",
      "2023-04-02T11:27:47.943 INFO iotfunctions.metadata.predict predicted using model model.IOT_ZROBOT_M3810_626542.RANSACRegressor.67b537e9ea5557ae8ececb36588ec84baa1e54b5b24c9d2ce7c349d55aae5ea3:IY.N438446\n",
      "2023-04-02T11:27:47.951 INFO mmfunctions.anomaly._calc RANSAC: (191,), (191,), (191, 1)\n",
      "2023-04-02T11:27:47.954 INFO mmfunctions.anomaly._calc RANSAC: [ True  True False False False False False  True  True False]\n",
      "2023-04-02T11:27:47.958 ERROR iotfunctions.base.get_bucket_name Could not find credentials for entity type. COS read/write is disabled \n",
      "2023-04-02T11:27:47.960 INFO iotfunctions.base.delete_models Model names to delete: ['model.IOT_ZROBOT_M3810_626542.RANSACRegressor.67b537e9ea5557ae8ececb36588ec84baa1e54b5b24c9d2ce7c349d55aae5ea3:IY.N440208']\n",
      "2023-04-02T11:27:47.961 INFO iotfunctions.dbtables.delete_model Model model.IOT_ZROBOT_M3810_626542.RANSACRegressor.67b537e9ea5557ae8ececb36588ec84baa1e54b5b24c9d2ce7c349d55aae5ea3:IY.N440208 has been deleted from filesystem\n",
      "2023-04-02T11:27:47.962 INFO iotfunctions.base.get_models_for_training predicting target IY\n",
      "2023-04-02T11:27:47.963 INFO iotfunctions.dbtables.retrieve_model Model model.IOT_ZROBOT_M3810_626542.RANSACRegressor.67b537e9ea5557ae8ececb36588ec84baa1e54b5b24c9d2ce7c349d55aae5ea3:IY.N440208 does not exist in filesystem\n",
      "2023-04-02T11:27:47.963 INFO iotfunctions.base.get_models_for_training load model None\n",
      "2023-04-02T11:27:47.963 INFO iotfunctions.base.get_models_for_training training required: True  results: Training required because there is no existing model\n",
      "2023-04-02T11:27:47.967 INFO iotfunctions.base.execute_train_test_split Split data - training set (154, 11)  test set (39, 11)\n",
      "2023-04-02T11:27:47.967 INFO iotfunctions.base._execute Prepare to train model {\n",
      " \"name\": \"model.IOT_ZROBOT_M3810_626542.RANSACRegressor.67b537e9ea5557ae8ececb36588ec84baa1e54b5b24c9d2ce7c349d55aae5ea3:IY.N440208\",\n",
      " \"target\": \"IY\",\n",
      " \"features\": [\n",
      "  \"IR\",\n",
      "  \"IB\"\n",
      " ],\n",
      " \"estimator_name\": null,\n",
      " \"eval_metric_name\": \"r2_score\",\n",
      " \"eval_metric_train\": null,\n",
      " \"eval_metric_test\": null,\n",
      " \"trained_date\": null,\n",
      " \"expiry_date\": null,\n",
      " \"col_name\": \"predicted_IY\",\n",
      " \"col_name_stddev\": null\n",
      "}\n",
      "2023-04-02T11:27:47.968 INFO mmfunctions.anomaly.set_estimators RANSAC Regressor initialized\n",
      "make_estimators  <class 'sklearn.linear_model._ransac.RANSACRegressor'> {'estimator': [BayesianRidge(compute_score=True)], 'random_state': [42]}\n",
      "3\n"
     ]
    },
    {
     "name": "stderr",
     "output_type": "stream",
     "text": [
      "X has feature names, but BayesianRidge was fitted without feature names\n",
      "The total space of parameters 1 is smaller than n_iter=3. Running 1 iterations. For exhaustive searches, use GridSearchCV.\n"
     ]
    },
    {
     "name": "stdout",
     "output_type": "stream",
     "text": [
      "2023-04-02T11:27:48.248 INFO iotfunctions.base.find_best_model Trained model no: 0\n",
      "2023-04-02T11:27:48.250 INFO iotfunctions.base.find_best_model Trained model no: 0 score:-0.03166314226642619\n",
      "2023-04-02T11:27:48.253 INFO iotfunctions.metadata.test evaluated model model.IOT_ZROBOT_M3810_626542.RANSACRegressor.67b537e9ea5557ae8ececb36588ec84baa1e54b5b24c9d2ce7c349d55aae5ea3:IY.N440208 with evaluation metric value -0.05278452105520315\n",
      "2023-04-02T11:27:48.255 INFO iotfunctions.base._execute Finished training model model.IOT_ZROBOT_M3810_626542.RANSACRegressor.67b537e9ea5557ae8ececb36588ec84baa1e54b5b24c9d2ce7c349d55aae5ea3:IY.N440208\n",
      "2023-04-02T11:27:48.256 INFO iotfunctions.dbtables.retrieve_model Model model.IOT_ZROBOT_M3810_626542.RANSACRegressor.67b537e9ea5557ae8ececb36588ec84baa1e54b5b24c9d2ce7c349d55aae5ea3:IY.N440208 of size 2465 bytes has been retrieved from filesystem\n",
      "2023-04-02T11:27:48.258 INFO iotfunctions.metadata.predict predicted using model model.IOT_ZROBOT_M3810_626542.RANSACRegressor.67b537e9ea5557ae8ececb36588ec84baa1e54b5b24c9d2ce7c349d55aae5ea3:IY.N440208\n",
      "2023-04-02T11:27:48.269 INFO mmfunctions.anomaly._calc RANSAC: (193,), (193,), (193, 1)\n",
      "2023-04-02T11:27:48.271 INFO mmfunctions.anomaly._calc RANSAC: [False  True False False  True False  True False False False]\n",
      "2023-04-02T11:27:48.273 ERROR iotfunctions.base.get_bucket_name Could not find credentials for entity type. COS read/write is disabled \n",
      "2023-04-02T11:27:48.274 INFO iotfunctions.base.delete_models Model names to delete: ['model.IOT_ZROBOT_M3810_626542.RANSACRegressor.67b537e9ea5557ae8ececb36588ec84baa1e54b5b24c9d2ce7c349d55aae5ea3:IY.N867158']\n",
      "2023-04-02T11:27:48.275 INFO iotfunctions.dbtables.delete_model Model model.IOT_ZROBOT_M3810_626542.RANSACRegressor.67b537e9ea5557ae8ececb36588ec84baa1e54b5b24c9d2ce7c349d55aae5ea3:IY.N867158 has been deleted from filesystem\n",
      "2023-04-02T11:27:48.275 INFO iotfunctions.base.get_models_for_training predicting target IY\n",
      "2023-04-02T11:27:48.276 INFO iotfunctions.dbtables.retrieve_model Model model.IOT_ZROBOT_M3810_626542.RANSACRegressor.67b537e9ea5557ae8ececb36588ec84baa1e54b5b24c9d2ce7c349d55aae5ea3:IY.N867158 does not exist in filesystem\n",
      "2023-04-02T11:27:48.276 INFO iotfunctions.base.get_models_for_training load model None\n",
      "2023-04-02T11:27:48.277 INFO iotfunctions.base.get_models_for_training training required: True  results: Training required because there is no existing model\n",
      "2023-04-02T11:27:48.281 INFO iotfunctions.base.execute_train_test_split Split data - training set (154, 11)  test set (39, 11)\n",
      "2023-04-02T11:27:48.282 INFO iotfunctions.base._execute Prepare to train model {\n",
      " \"name\": \"model.IOT_ZROBOT_M3810_626542.RANSACRegressor.67b537e9ea5557ae8ececb36588ec84baa1e54b5b24c9d2ce7c349d55aae5ea3:IY.N867158\",\n",
      " \"target\": \"IY\",\n",
      " \"features\": [\n",
      "  \"IR\",\n",
      "  \"IB\"\n",
      " ],\n",
      " \"estimator_name\": null,\n",
      " \"eval_metric_name\": \"r2_score\",\n",
      " \"eval_metric_train\": null,\n",
      " \"eval_metric_test\": null,\n",
      " \"trained_date\": null,\n",
      " \"expiry_date\": null,\n",
      " \"col_name\": \"predicted_IY\",\n",
      " \"col_name_stddev\": null\n",
      "}\n",
      "2023-04-02T11:27:48.282 INFO mmfunctions.anomaly.set_estimators RANSAC Regressor initialized\n",
      "make_estimators  <class 'sklearn.linear_model._ransac.RANSACRegressor'> {'estimator': [BayesianRidge(compute_score=True)], 'random_state': [42]}\n",
      "3\n"
     ]
    },
    {
     "name": "stderr",
     "output_type": "stream",
     "text": [
      "X has feature names, but BayesianRidge was fitted without feature names\n",
      "The total space of parameters 1 is smaller than n_iter=3. Running 1 iterations. For exhaustive searches, use GridSearchCV.\n"
     ]
    },
    {
     "name": "stdout",
     "output_type": "stream",
     "text": [
      "2023-04-02T11:27:48.576 INFO iotfunctions.base.find_best_model Trained model no: 0\n",
      "2023-04-02T11:27:48.578 INFO iotfunctions.base.find_best_model Trained model no: 0 score:-0.0755638486778143\n",
      "2023-04-02T11:27:48.581 INFO iotfunctions.metadata.test evaluated model model.IOT_ZROBOT_M3810_626542.RANSACRegressor.67b537e9ea5557ae8ececb36588ec84baa1e54b5b24c9d2ce7c349d55aae5ea3:IY.N867158 with evaluation metric value -0.2704368555197356\n",
      "2023-04-02T11:27:48.583 INFO iotfunctions.base._execute Finished training model model.IOT_ZROBOT_M3810_626542.RANSACRegressor.67b537e9ea5557ae8ececb36588ec84baa1e54b5b24c9d2ce7c349d55aae5ea3:IY.N867158\n",
      "2023-04-02T11:27:48.584 INFO iotfunctions.dbtables.retrieve_model Model model.IOT_ZROBOT_M3810_626542.RANSACRegressor.67b537e9ea5557ae8ececb36588ec84baa1e54b5b24c9d2ce7c349d55aae5ea3:IY.N867158 of size 2505 bytes has been retrieved from filesystem\n",
      "2023-04-02T11:27:48.586 INFO iotfunctions.metadata.predict predicted using model model.IOT_ZROBOT_M3810_626542.RANSACRegressor.67b537e9ea5557ae8ececb36588ec84baa1e54b5b24c9d2ce7c349d55aae5ea3:IY.N867158\n",
      "2023-04-02T11:27:48.592 INFO mmfunctions.anomaly._calc RANSAC: (193,), (193,), (193, 1)\n",
      "2023-04-02T11:27:48.593 INFO mmfunctions.anomaly._calc RANSAC: [ True  True False  True False  True False  True  True False]\n"
     ]
    },
    {
     "name": "stderr",
     "output_type": "stream",
     "text": [
      "X has feature names, but BayesianRidge was fitted without feature names\n"
     ]
    }
   ],
   "source": [
    "# start training\n",
    "df_input = test3.execute(df=df_input)"
   ]
  },
  {
   "cell_type": "markdown",
   "id": "05c46602",
   "metadata": {
    "code_folding": []
   },
   "source": [
    "### Introspect training results\n",
    "\n",
    "Training results, a trained regressor for each entity (device), are collected in a python dict. The unique key will be \n",
    "\n",
    "model.IOT_ZROBOT_M3810_626542.RANSACRegressor.67b537e9ea5557ae8ececb36588ec84baa1e54b5b24c9d2ce7c349d55aae5ea3:IY.N438446\n",
    "\n",
    "reflecting entity type name and id, the name of the regressor function, a UUID encoded list of features, the target and the device/entity name\n",
    "\n",
    "Pipeline v1 makes use of that schema to retrieve model binaries from DB2."
   ]
  },
  {
   "cell_type": "code",
   "execution_count": 31,
   "id": "37cf8e5c",
   "metadata": {},
   "outputs": [],
   "source": [
    "# get the model for the first device name 'N438446'\n",
    "model = test3.active_models['model.IOT_ZROBOT_M3810_626542.RANSACRegressor.67b537e9ea5557ae8ececb36588ec84baa1e54b5b24c9d2ce7c349d55aae5ea3:IY.N438446'][0].estimator"
   ]
  },
  {
   "cell_type": "code",
   "execution_count": 32,
   "id": "ee97a65c",
   "metadata": {},
   "outputs": [
    {
     "data": {
      "text/html": [
       "<style>#sk-container-id-6 {color: black;background-color: white;}#sk-container-id-6 pre{padding: 0;}#sk-container-id-6 div.sk-toggleable {background-color: white;}#sk-container-id-6 label.sk-toggleable__label {cursor: pointer;display: block;width: 100%;margin-bottom: 0;padding: 0.3em;box-sizing: border-box;text-align: center;}#sk-container-id-6 label.sk-toggleable__label-arrow:before {content: \"▸\";float: left;margin-right: 0.25em;color: #696969;}#sk-container-id-6 label.sk-toggleable__label-arrow:hover:before {color: black;}#sk-container-id-6 div.sk-estimator:hover label.sk-toggleable__label-arrow:before {color: black;}#sk-container-id-6 div.sk-toggleable__content {max-height: 0;max-width: 0;overflow: hidden;text-align: left;background-color: #f0f8ff;}#sk-container-id-6 div.sk-toggleable__content pre {margin: 0.2em;color: black;border-radius: 0.25em;background-color: #f0f8ff;}#sk-container-id-6 input.sk-toggleable__control:checked~div.sk-toggleable__content {max-height: 200px;max-width: 100%;overflow: auto;}#sk-container-id-6 input.sk-toggleable__control:checked~label.sk-toggleable__label-arrow:before {content: \"▾\";}#sk-container-id-6 div.sk-estimator input.sk-toggleable__control:checked~label.sk-toggleable__label {background-color: #d4ebff;}#sk-container-id-6 div.sk-label input.sk-toggleable__control:checked~label.sk-toggleable__label {background-color: #d4ebff;}#sk-container-id-6 input.sk-hidden--visually {border: 0;clip: rect(1px 1px 1px 1px);clip: rect(1px, 1px, 1px, 1px);height: 1px;margin: -1px;overflow: hidden;padding: 0;position: absolute;width: 1px;}#sk-container-id-6 div.sk-estimator {font-family: monospace;background-color: #f0f8ff;border: 1px dotted black;border-radius: 0.25em;box-sizing: border-box;margin-bottom: 0.5em;}#sk-container-id-6 div.sk-estimator:hover {background-color: #d4ebff;}#sk-container-id-6 div.sk-parallel-item::after {content: \"\";width: 100%;border-bottom: 1px solid gray;flex-grow: 1;}#sk-container-id-6 div.sk-label:hover label.sk-toggleable__label {background-color: #d4ebff;}#sk-container-id-6 div.sk-serial::before {content: \"\";position: absolute;border-left: 1px solid gray;box-sizing: border-box;top: 0;bottom: 0;left: 50%;z-index: 0;}#sk-container-id-6 div.sk-serial {display: flex;flex-direction: column;align-items: center;background-color: white;padding-right: 0.2em;padding-left: 0.2em;position: relative;}#sk-container-id-6 div.sk-item {position: relative;z-index: 1;}#sk-container-id-6 div.sk-parallel {display: flex;align-items: stretch;justify-content: center;background-color: white;position: relative;}#sk-container-id-6 div.sk-item::before, #sk-container-id-6 div.sk-parallel-item::before {content: \"\";position: absolute;border-left: 1px solid gray;box-sizing: border-box;top: 0;bottom: 0;left: 50%;z-index: -1;}#sk-container-id-6 div.sk-parallel-item {display: flex;flex-direction: column;z-index: 1;position: relative;background-color: white;}#sk-container-id-6 div.sk-parallel-item:first-child::after {align-self: flex-end;width: 50%;}#sk-container-id-6 div.sk-parallel-item:last-child::after {align-self: flex-start;width: 50%;}#sk-container-id-6 div.sk-parallel-item:only-child::after {width: 0;}#sk-container-id-6 div.sk-dashed-wrapped {border: 1px dashed gray;margin: 0 0.4em 0.5em 0.4em;box-sizing: border-box;padding-bottom: 0.4em;background-color: white;}#sk-container-id-6 div.sk-label label {font-family: monospace;font-weight: bold;display: inline-block;line-height: 1.2em;}#sk-container-id-6 div.sk-label-container {text-align: center;}#sk-container-id-6 div.sk-container {/* jupyter's `normalize.less` sets `[hidden] { display: none; }` but bootstrap.min.css set `[hidden] { display: none !important; }` so we also need the `!important` here to be able to override the default hidden behavior on the sphinx rendered scikit-learn.org. See: https://github.com/scikit-learn/scikit-learn/issues/21755 */display: inline-block !important;position: relative;}#sk-container-id-6 div.sk-text-repr-fallback {display: none;}</style><div id=\"sk-container-id-6\" class=\"sk-top-container\"><div class=\"sk-text-repr-fallback\"><pre>RANSACRegressor(estimator=BayesianRidge(compute_score=True), random_state=42)</pre><b>In a Jupyter environment, please rerun this cell to show the HTML representation or trust the notebook. <br />On GitHub, the HTML representation is unable to render, please try loading this page with nbviewer.org.</b></div><div class=\"sk-container\" hidden><div class=\"sk-item sk-dashed-wrapped\"><div class=\"sk-label-container\"><div class=\"sk-label sk-toggleable\"><input class=\"sk-toggleable__control sk-hidden--visually\" id=\"sk-estimator-id-16\" type=\"checkbox\" ><label for=\"sk-estimator-id-16\" class=\"sk-toggleable__label sk-toggleable__label-arrow\">RANSACRegressor</label><div class=\"sk-toggleable__content\"><pre>RANSACRegressor(estimator=BayesianRidge(compute_score=True), random_state=42)</pre></div></div></div><div class=\"sk-parallel\"><div class=\"sk-parallel-item\"><div class=\"sk-item\"><div class=\"sk-label-container\"><div class=\"sk-label sk-toggleable\"><input class=\"sk-toggleable__control sk-hidden--visually\" id=\"sk-estimator-id-17\" type=\"checkbox\" ><label for=\"sk-estimator-id-17\" class=\"sk-toggleable__label sk-toggleable__label-arrow\">estimator: BayesianRidge</label><div class=\"sk-toggleable__content\"><pre>BayesianRidge(compute_score=True)</pre></div></div></div><div class=\"sk-serial\"><div class=\"sk-item\"><div class=\"sk-estimator sk-toggleable\"><input class=\"sk-toggleable__control sk-hidden--visually\" id=\"sk-estimator-id-18\" type=\"checkbox\" ><label for=\"sk-estimator-id-18\" class=\"sk-toggleable__label sk-toggleable__label-arrow\">BayesianRidge</label><div class=\"sk-toggleable__content\"><pre>BayesianRidge(compute_score=True)</pre></div></div></div></div></div></div></div></div></div></div>"
      ],
      "text/plain": [
       "RANSACRegressor(estimator=BayesianRidge(compute_score=True), random_state=42)"
      ]
     },
     "execution_count": 32,
     "metadata": {},
     "output_type": "execute_result"
    }
   ],
   "source": [
    "model"
   ]
  },
  {
   "cell_type": "markdown",
   "id": "96415e2a",
   "metadata": {},
   "source": [
    "### Convert the model into ONNX"
   ]
  },
  {
   "cell_type": "code",
   "execution_count": 33,
   "id": "60ecf793",
   "metadata": {},
   "outputs": [],
   "source": [
    "# turn it into an ONNX model\n",
    "import onnxmltools\n",
    "import skl2onnx\n",
    "import onnx\n",
    "import sklearn\n",
    "import os\n",
    "from onnx.tools.net_drawer import GetPydotGraph, GetOpNodeProducer\n",
    "import onnxruntime as rt\n",
    "from onnxruntime.capi.onnxruntime_pybind11_state import Fail as OrtFail\n",
    "from skl2onnx import convert_sklearn, update_registered_converter\n",
    "from skl2onnx.common.shape_calculator import calculate_linear_classifier_output_shapes  # noqa\n",
    "import onnxmltools.convert.common.data_types\n",
    "from skl2onnx.common.data_types import FloatTensorType\n",
    "import numpy\n",
    "from sklearn.datasets import load_iris\n",
    "from sklearn.pipeline import Pipeline\n",
    "from sklearn.preprocessing import StandardScaler\n",
    "\n",
    "from onnxruntime import InferenceSession\n",
    "from skl2onnx import to_onnx, update_registered_converter\n",
    "from skl2onnx.common.shape_calculator import calculate_linear_regressor_output_shapes  # noqa\n",
    "from onnxmltools import __version__ as oml_version\n",
    "from skl2onnx.common.data_types import FloatTensorType, Int64TensorType"
   ]
  },
  {
   "cell_type": "code",
   "execution_count": 34,
   "id": "2ae476fe",
   "metadata": {},
   "outputs": [],
   "source": [
    "model_onnx = convert_sklearn(model, 'pipeline_ransac', \n",
    "    [('input', FloatTensorType([None, 2]))])"
   ]
  },
  {
   "cell_type": "code",
   "execution_count": 35,
   "id": "35c561dc",
   "metadata": {},
   "outputs": [],
   "source": [
    "with open(\"pipeline_ransac.onnx\", \"wb\") as f:\n",
    "    f.write(model_onnx.SerializeToString())"
   ]
  },
  {
   "cell_type": "code",
   "execution_count": 36,
   "id": "fbc4ce7d",
   "metadata": {},
   "outputs": [
    {
     "data": {
      "text/html": [
       "<div id=\"M6cc01a8044c443f89b22b66be8c76f44-cont\"><div id=\"M6cc01a8044c443f89b22b66be8c76f44\" style=\"width:100%;height:100%;\"></div></div>\n",
       "<script>\n",
       "\n",
       "require(['http://www.xavierdupre.fr/js/vizjs/viz.js'], function() { var svgGraph = Viz(\"digraph{\\n  orientation=portrait;\\n  size=7;\\n  nodesep=0.05;\\n  ranksep=0.25;\\n\\n  input [shape=box color=red label=\\\"input\\nfloat((0, 2))\\\" fontsize=10];\\n\\n  variable [shape=box color=green label=\\\"variable\\nfloat((0, 1))\\\" fontsize=10];\\n\\n\\n  label [shape=box label=\\\"label\\\" fontsize=10];\\n  LinearRegressor [shape=box style=\\\"filled,rounded\\\" color=orange label=\\\"LinearRegressor\\n(LinearRegressor)\\ncoefficients=[ 0.00028699 -0.00...\\nintercepts=[99.457016]\\\" fontsize=10];\\n  input -> LinearRegressor;\\n  LinearRegressor -> label;\\n\\n  Identity [shape=box style=\\\"filled,rounded\\\" color=orange label=\\\"Identity\\n(Identity)\\\" fontsize=10];\\n  label -> Identity;\\n  Identity -> variable;\\n}\");\n",
       "document.getElementById('M6cc01a8044c443f89b22b66be8c76f44').innerHTML = svgGraph; });\n",
       "\n",
       "</script>"
      ],
      "text/plain": [
       "<jyquickhelper.jspy.render_nb_js_dot.RenderJsDot at 0x7f7779fd7fa0>"
      ]
     },
     "execution_count": 36,
     "metadata": {},
     "output_type": "execute_result"
    }
   ],
   "source": [
    "from mlprodict.onnxrt import OnnxInference\n",
    "sess = OnnxInference(model_onnx)\n",
    "dot = sess.to_dot()\n",
    "from jyquickhelper import RenderJsDot\n",
    "RenderJsDot(dot)"
   ]
  },
  {
   "cell_type": "markdown",
   "id": "9660f174",
   "metadata": {},
   "source": [
    "### Prepare to save\n",
    "\n",
    "Set up some a meta object for the entity type to \"convince\" the pipeline v1 SDK to store the ONNX object as model binary for entity type ZRobot_M380 with the db2 schema name 'MASDEV_MAM' (tenant name + acronym for Maximo Asset Monitor)"
   ]
  },
  {
   "cell_type": "code",
   "execution_count": 37,
   "id": "3c386750",
   "metadata": {},
   "outputs": [],
   "source": [
    "from collections import OrderedDict\n",
    "metadata = OrderedDict()\n",
    "metadata['name'] = 'ZRobot_M380'\n",
    "metadata['schemaName'] = 'MASDEV_MAM'"
   ]
  },
  {
   "cell_type": "code",
   "execution_count": 38,
   "id": "3c08f462",
   "metadata": {},
   "outputs": [
    {
     "name": "stdout",
     "output_type": "stream",
     "text": [
      "2023-04-02T11:37:44.657 WARNING iotfunctions.db.__init__ Unable to locate CORE API URL.. using base API URL\n",
      "HERE\n",
      "2023-04-02T11:37:52.241 INFO iotfunctions.db.__init__ Data Dictionary is not available.\n"
     ]
    }
   ],
   "source": [
    "# open a connection to the tenant's db2\n",
    "with open('/home/markus/src/mmfunctions/credentials_as_monitordev3.json', encoding='utf-8') as F:\n",
    "    credentials = json.loads(F.read())\n",
    "\n",
    "realdb = Database(credentials=credentials, tenant_id='MASDEV', entity_metadata=metadata, entity_type_id=626542)"
   ]
  },
  {
   "cell_type": "code",
   "execution_count": 39,
   "id": "cbc79060",
   "metadata": {},
   "outputs": [
    {
     "data": {
      "text/plain": [
       "(<ibm_db.IBM_DBConnection at 0x7f7779e462e0>,\n",
       " <iotfunctions.dbtables.DBModelStore at 0x7f7778b5bd30>)"
      ]
     },
     "execution_count": 39,
     "metadata": {},
     "output_type": "execute_result"
    }
   ],
   "source": [
    "# check native connection to tenant database (for model table)\n",
    "realdb.native_connection, realdb.model_store"
   ]
  },
  {
   "cell_type": "code",
   "execution_count": 41,
   "id": "1cc33e1b",
   "metadata": {},
   "outputs": [
    {
     "data": {
      "text/plain": [
       "['model.IOT_ZROBOT_M3810_626542.RANSACRegressor.67b537e9ea5557ae8ececb36588ec84baa1e54b5b24c9d2ce7c349d55aae5ea3:IY.N438446',\n",
       " 'model.IOT_ZROBOT_M3810_626542.RANSACRegressor.67b537e9ea5557ae8ececb36588ec84baa1e54b5b24c9d2ce7c349d55aae5ea3:IY.N440208',\n",
       " 'model.IOT_ZROBOT_M3810_626542.RANSACRegressor.67b537e9ea5557ae8ececb36588ec84baa1e54b5b24c9d2ce7c349d55aae5ea3:IY.N867158']"
      ]
     },
     "execution_count": 41,
     "metadata": {},
     "output_type": "execute_result"
    }
   ],
   "source": [
    "# here the models we have just trained\n",
    "list(test3.active_models.keys())"
   ]
  },
  {
   "cell_type": "markdown",
   "id": "98c7d00f",
   "metadata": {},
   "source": [
    "### 'Rename' models\n",
    "\n",
    "This is the confusing part:\n",
    "\n",
    "Please keep in mind that we've trained our models on synthetic data and that we now apply them to predict **random data**. Focus is not on prediction accuracy but the *mechanics* of training, deployment and usage of an ONNX model. \n",
    "\n",
    "Furthermore the models carry a different name (key):  \n",
    "\n",
    "We have trained a RANSACRegressor so the key contains the string 'RANSACRegressor', but the ONNXRegressor function is expecting a name 'SupervisedLearningTransformer'.\n",
    "\n",
    "Let's find the name pipeline v1 **would** expect\n"
   ]
  },
  {
   "cell_type": "code",
   "execution_count": 44,
   "id": "ea0d7eb9",
   "metadata": {},
   "outputs": [],
   "source": [
    "# initiate an ONNXRegressor function\n",
    "from mmfunctions.customer import ONNXRegressor\n",
    "onnxregressor = ONNXRegressor(['acc','torque'], ['speed'],\n",
    "                              ['prediction_speed'],'conf_')\n",
    "onnxregressor._entity_type = et3  # this object has the correct entity type name and id\n"
   ]
  },
  {
   "cell_type": "code",
   "execution_count": 46,
   "id": "c99cebd2",
   "metadata": {},
   "outputs": [
    {
     "data": {
      "text/plain": [
       "'model.IOT_ZROBOT_M3810_626542.SupervisedLearningTransformer.bbccb9c002d5ed5994789fd8d38a8af3825f7691e10c44cac9b07dc54b15c2ee:speed.73004.onnx'"
      ]
     },
     "execution_count": 46,
     "metadata": {},
     "output_type": "execute_result"
    }
   ],
   "source": [
    "# and ask it for the correct name\n",
    "\n",
    "model_name = onnxregressor.generate_model_name([], 'speed', 'model', '73004.onnx')\n",
    "model_name"
   ]
  },
  {
   "cell_type": "markdown",
   "id": "a5d1768c",
   "metadata": {},
   "source": [
    "### Save it !\n",
    "\n",
    "Now we have the ONNX binary, the correct name for pipeline v1 to get it out of the db2"
   ]
  },
  {
   "cell_type": "code",
   "execution_count": 47,
   "id": "679aaee6",
   "metadata": {},
   "outputs": [
    {
     "name": "stdout",
     "output_type": "stream",
     "text": [
      "2023-04-02T11:47:03.237 INFO iotfunctions.dbtables.store_model Model model.IOT_ZROBOT_M3810_626542.SupervisedLearningTransformer.bbccb9c002d5ed5994789fd8d38a8af3825f7691e10c44cac9b07dc54b15c2ee:speed.73004.onnx of size 276 bytes has been stored in table \"MASDEV_MAM\".\"KPI_MODEL_STORE\".\n"
     ]
    }
   ],
   "source": [
    "# just call the SDK object for database handling\n",
    "realdb.model_store.store_model(model_name, model_onnx.SerializeToString(), None, serialize=False)"
   ]
  },
  {
   "cell_type": "code",
   "execution_count": null,
   "id": "b2a235ed",
   "metadata": {},
   "outputs": [],
   "source": []
  },
  {
   "cell_type": "markdown",
   "id": "156b5a52",
   "metadata": {},
   "source": [
    "### Code: ONNXRegressor\n",
    "\n",
    "\n",
    "Code (without imports and logging) from https://github.com/sedgewickmm18/mmfunctions\n",
    "\n",
    "\n",
    "class ONNXRegressor(SupervisedLearningTransformer):\n",
    "    \"\"\"\n",
    "    Return first non-null value from a list of data items.\n",
    "    \"\"\"\n",
    "\n",
    "    def __init__(self, features, targets, predictions, confidence_band_prefix):\n",
    "\n",
    "        if targets is None:\n",
    "            targets = ['output_item']\n",
    "        elif not isinstance(targets, list):\n",
    "            targets = [targets]\n",
    "\n",
    "        prediction_prefix = 'pred_'\n",
    "        if predictions is None:\n",
    "            predictions = [prediction_prefix + x for x in targets]\n",
    "        \n",
    "        # Model-factory, a MAS accelerator allows for training regression models with conformal prediction\n",
    "        #                                                                              i.e with confidence bands\n",
    "        if confidence_band_prefix is None:\n",
    "            confidence_band_prefix = 'conf_'\n",
    "\n",
    "        confidences = [confidence_band_prefix + x for x in targets]\n",
    "\n",
    "        super().__init__(features, targets, predictions)\n",
    "        self.whoami = 'ONNXRegressor'\n",
    "        self.confidences = confidences\n",
    "        \n",
    "        \n",
    "    def load_model(self, suffix=None):\n",
    "        # TODO: Lift assumption there is only a single target\n",
    "        model_name = self.generate_model_name([], self.targets[0], prefix='model', suffix=suffix)\n",
    "\n",
    "        my_model = None\n",
    "        db = self.get_db()\n",
    "        try:\n",
    "            # no unpickling for ONNX binary models\n",
    "            my_model = db.model_store.retrieve_model(model_name, deserialize=False)  \n",
    "        except Exception as e:\n",
    "            pass\n",
    "\n",
    "        return model_name, my_model\n",
    "\n",
    "    def _calc(self, df):\n",
    "        entity = df.index[0][0]\n",
    "\n",
    "        # obtain db handler for retrieving the ONNX binary from DB2\n",
    "        db = self.get_db()\n",
    "\n",
    "        model_name, onnx_model = self.load_model(suffix=entity + '.onnx')\n",
    "\n",
    "        # turn feature data into float32 as ONNX doesn't support double\n",
    "        features = df[self.features].values.astype(np.float32)\n",
    "\n",
    "        if onnx_model is None:\n",
    "            logger.error('ONNX model not available')\n",
    "            df[self.predictions] = -0.000001\n",
    "            df[self.confidences] = -0.000001\n",
    "\n",
    "        else:\n",
    "            # pass data to the model\n",
    "            options = rt.SessionOptions()\n",
    "            options.enable_profiling = True\n",
    "            session = rt.InferenceSession(onnx_model, sess_options=options)\n",
    "            ortvalue = rt.OrtValue.ortvalue_from_numpy(features)\n",
    "\n",
    "            input_names = [x.name for x in session.get_inputs()]\n",
    "            output_names = [x.name for x in session.get_outputs()]\n",
    "            \n",
    "            try:\n",
    "                outputs = session.run(output_names, {input_names[0]: features})\n",
    "                df[self.predictions] = outputs[0]\n",
    "                if len(outputs) > 1:\n",
    "                    df[self.confidences] = outputs[1]\n",
    "                else:\n",
    "                    df[self.confidences] = 0\n",
    "            except Exception as e:\n",
    "                 pass\n",
    "\n",
    "        return df.droplevel(0)\n"
   ]
  },
  {
   "cell_type": "code",
   "execution_count": null,
   "id": "717fffff",
   "metadata": {},
   "outputs": [],
   "source": []
  },
  {
   "cell_type": "code",
   "execution_count": null,
   "id": "5488ce65",
   "metadata": {},
   "outputs": [],
   "source": []
  },
  {
   "cell_type": "code",
   "execution_count": null,
   "id": "c4f28321",
   "metadata": {},
   "outputs": [],
   "source": []
  }
 ],
 "metadata": {
  "kernelspec": {
   "display_name": "Python 3 (ipykernel)",
   "language": "python",
   "name": "python3"
  },
  "language_info": {
   "codemirror_mode": {
    "name": "ipython",
    "version": 3
   },
   "file_extension": ".py",
   "mimetype": "text/x-python",
   "name": "python",
   "nbconvert_exporter": "python",
   "pygments_lexer": "ipython3",
   "version": "3.10.7"
  },
  "varInspector": {
   "cols": {
    "lenName": 16,
    "lenType": 16,
    "lenVar": 40
   },
   "kernels_config": {
    "python": {
     "delete_cmd_postfix": "",
     "delete_cmd_prefix": "del ",
     "library": "var_list.py",
     "varRefreshCmd": "print(var_dic_list())"
    },
    "r": {
     "delete_cmd_postfix": ") ",
     "delete_cmd_prefix": "rm(",
     "library": "var_list.r",
     "varRefreshCmd": "cat(var_dic_list()) "
    }
   },
   "types_to_exclude": [
    "module",
    "function",
    "builtin_function_or_method",
    "instance",
    "_Feature"
   ],
   "window_display": false
  }
 },
 "nbformat": 4,
 "nbformat_minor": 5
}
